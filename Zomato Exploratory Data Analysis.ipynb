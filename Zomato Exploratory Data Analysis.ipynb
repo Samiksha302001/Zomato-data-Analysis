{
 "cells": [
  {
   "cell_type": "markdown",
   "metadata": {
    "colab_type": "text",
    "id": "68P4wgsiTEkh"
   },
   "source": [
    "# Exploratory Data Analysis\n",
    "\n",
    "This notebook focusses on the first step of any data science project: exploring the data.<br>\n",
    "*Exploratory Data Analysis* or EDA is to get familiar to our data, identifying important columns, perform data manipulation and \n",
    "asking interesting questions from our data using visualization tools."
   ]
  },
  {
   "cell_type": "markdown",
   "metadata": {
    "colab_type": "text",
    "id": "rQ_DyiMjTEkj"
   },
   "source": [
    "###  Data Description  \n",
    "#### Zomato is an Indian restaurant aggregator and food delivery start-up founded by Deepinder Goyal and Pankaj Chaddah in 2008. Zomato provides information, menus and user-reviews of restaurants as well as food delivery options from partner restaurants in select cities.\n",
    "\n",
    "### Problem Statement\n",
    "In this session, we are going to analyze the restaurant business data. We want to study the food habbits of zomato users, their preferances, ratings etc.\n",
    "\n",
    "### Data description:\n",
    "The collected data has been stored in the Comma Separated Value file Zomato.csv. Each restaurant in the dataset is uniquely identified by its Restaurant Id. Every Restaurant contains the following variables:\n",
    "\n",
    "• Restaurant Id: Unique id of every restaurant across various cities of the world\n",
    "\n",
    "• Restaurant Name: Name of the restaurant\n",
    "\n",
    "• Country Code: Country in which restaurant is located\n",
    "\n",
    "• City: City in which restaurant is located\n",
    "\n",
    "• Address: Address of the restaurant\n",
    "\n",
    "• Locality: Location in the city\n",
    "\n",
    "• Locality Verbose: Detailed description of the locality\n",
    "\n",
    "• Longitude: Longitude coordinate of the restaurant's location\n",
    "\n",
    "• Latitude: Latitude coordinate of the restaurant's location\n",
    "\n",
    "• Cuisines: Cuisines offered by the restaurant\n",
    "\n",
    "• Average Cost for two: Cost for two people in different currencies 👫\n",
    "\n",
    "• Currency: Currency of the country\n",
    "\n",
    "• Has Table booking: yes/no\n",
    "\n",
    "• Has Online delivery: yes/ no\n",
    "\n",
    "• Is delivering: yes/ no\n",
    "\n",
    "• Switch to order menu: yes/no\n",
    "\n",
    "• Price range: range of price of food\n",
    "\n",
    "• Aggregate Rating: Average rating out of 5\n",
    "\n",
    "• Rating color: depending upon the average rating color\n",
    "\n",
    "• Rating text: text on the basis of rating of rating\n",
    "\n",
    "• Votes: Number of ratings casted by people\n",
    "\n",
    "There is another dataset which has the country codes in it"
   ]
  },
  {
   "cell_type": "markdown",
   "metadata": {
    "colab_type": "text",
    "id": "u9IJtEe9TEkk"
   },
   "source": [
    "\n",
    "### Objective: \n",
    "#### Our goal in this notebook is to explore the data provided in Zomato csv and to analyze which restaurants have poor ratings in Zomato and why?"
   ]
  },
  {
   "cell_type": "code",
   "execution_count": 58,
   "metadata": {
    "colab": {},
    "colab_type": "code",
    "id": "V3EW62h2TEkm"
   },
   "outputs": [],
   "source": [
    "import pandas as pd                                 # Importing pandas\n",
    "import numpy as np                                  # Importing numpy\n",
    "import matplotlib.pyplot as plt                     # Importing matplotlib for visualization\n",
    "\n",
    "%matplotlib inline                      \n",
    "import seaborn as sns                               # Importing seaborn for visualization"
   ]
  },
  {
   "cell_type": "markdown",
   "metadata": {
    "colab_type": "text",
    "id": "XfUX04hETEkq"
   },
   "source": [
    "### Loading the datasets "
   ]
  },
  {
   "cell_type": "markdown",
   "metadata": {
    "colab_type": "text",
    "id": "pBCu4YETTEkr"
   },
   "source": [
    "The csv file has encoding ISO-8859-1.\n",
    "Encoding defines what kind of characters(ASCII or non ASCII or something different) can be stored in a file.  "
   ]
  },
  {
   "cell_type": "code",
   "execution_count": 2,
   "metadata": {
    "colab": {},
    "colab_type": "code",
    "id": "9dUWrrY1TEks"
   },
   "outputs": [],
   "source": [
    "zomato_df = pd.read_csv('zomato.csv', encoding='ISO-8859-1')    # Reading file zomato.csv"
   ]
  },
  {
   "cell_type": "markdown",
   "metadata": {
    "colab_type": "text",
    "id": "XgwSvt37TEkv"
   },
   "source": [
    "### Inspecting Data"
   ]
  },
  {
   "cell_type": "code",
   "execution_count": 3,
   "metadata": {
    "colab": {
     "base_uri": "https://localhost:8080/",
     "height": 753
    },
    "colab_type": "code",
    "executionInfo": {
     "elapsed": 1508,
     "status": "ok",
     "timestamp": 1559630374709,
     "user": {
      "displayName": "Avinash Beck",
      "photoUrl": "",
      "userId": "14043619463729052163"
     },
     "user_tz": -330
    },
    "id": "k1-KDvfLTEkz",
    "outputId": "c7c7aa33-e1ba-474d-833d-600d6ae4db76"
   },
   "outputs": [
    {
     "data": {
      "text/html": [
       "<div>\n",
       "<style scoped>\n",
       "    .dataframe tbody tr th:only-of-type {\n",
       "        vertical-align: middle;\n",
       "    }\n",
       "\n",
       "    .dataframe tbody tr th {\n",
       "        vertical-align: top;\n",
       "    }\n",
       "\n",
       "    .dataframe thead th {\n",
       "        text-align: right;\n",
       "    }\n",
       "</style>\n",
       "<table border=\"1\" class=\"dataframe\">\n",
       "  <thead>\n",
       "    <tr style=\"text-align: right;\">\n",
       "      <th></th>\n",
       "      <th>Restaurant ID</th>\n",
       "      <th>Restaurant Name</th>\n",
       "      <th>Country Code</th>\n",
       "      <th>City</th>\n",
       "      <th>Address</th>\n",
       "      <th>Locality</th>\n",
       "      <th>Locality Verbose</th>\n",
       "      <th>Longitude</th>\n",
       "      <th>Latitude</th>\n",
       "      <th>Cuisines</th>\n",
       "      <th>...</th>\n",
       "      <th>Currency</th>\n",
       "      <th>Has Table booking</th>\n",
       "      <th>Has Online delivery</th>\n",
       "      <th>Is delivering now</th>\n",
       "      <th>Switch to order menu</th>\n",
       "      <th>Price range</th>\n",
       "      <th>Aggregate rating</th>\n",
       "      <th>Rating color</th>\n",
       "      <th>Rating text</th>\n",
       "      <th>Votes</th>\n",
       "    </tr>\n",
       "  </thead>\n",
       "  <tbody>\n",
       "    <tr>\n",
       "      <th>0</th>\n",
       "      <td>6317637</td>\n",
       "      <td>Le Petit Souffle</td>\n",
       "      <td>162</td>\n",
       "      <td>Makati City</td>\n",
       "      <td>Third Floor, Century City Mall, Kalayaan Avenu...</td>\n",
       "      <td>Century City Mall, Poblacion, Makati City</td>\n",
       "      <td>Century City Mall, Poblacion, Makati City, Mak...</td>\n",
       "      <td>121.027535</td>\n",
       "      <td>14.565443</td>\n",
       "      <td>French, Japanese, Desserts</td>\n",
       "      <td>...</td>\n",
       "      <td>Botswana Pula(P)</td>\n",
       "      <td>Yes</td>\n",
       "      <td>No</td>\n",
       "      <td>No</td>\n",
       "      <td>No</td>\n",
       "      <td>3</td>\n",
       "      <td>4.8</td>\n",
       "      <td>Dark Green</td>\n",
       "      <td>Excellent</td>\n",
       "      <td>314</td>\n",
       "    </tr>\n",
       "    <tr>\n",
       "      <th>1</th>\n",
       "      <td>6304287</td>\n",
       "      <td>Izakaya Kikufuji</td>\n",
       "      <td>162</td>\n",
       "      <td>Makati City</td>\n",
       "      <td>Little Tokyo, 2277 Chino Roces Avenue, Legaspi...</td>\n",
       "      <td>Little Tokyo, Legaspi Village, Makati City</td>\n",
       "      <td>Little Tokyo, Legaspi Village, Makati City, Ma...</td>\n",
       "      <td>121.014101</td>\n",
       "      <td>14.553708</td>\n",
       "      <td>Japanese</td>\n",
       "      <td>...</td>\n",
       "      <td>Botswana Pula(P)</td>\n",
       "      <td>Yes</td>\n",
       "      <td>No</td>\n",
       "      <td>No</td>\n",
       "      <td>No</td>\n",
       "      <td>3</td>\n",
       "      <td>4.5</td>\n",
       "      <td>Dark Green</td>\n",
       "      <td>Excellent</td>\n",
       "      <td>591</td>\n",
       "    </tr>\n",
       "    <tr>\n",
       "      <th>2</th>\n",
       "      <td>6300002</td>\n",
       "      <td>Heat - Edsa Shangri-La</td>\n",
       "      <td>162</td>\n",
       "      <td>Mandaluyong City</td>\n",
       "      <td>Edsa Shangri-La, 1 Garden Way, Ortigas, Mandal...</td>\n",
       "      <td>Edsa Shangri-La, Ortigas, Mandaluyong City</td>\n",
       "      <td>Edsa Shangri-La, Ortigas, Mandaluyong City, Ma...</td>\n",
       "      <td>121.056831</td>\n",
       "      <td>14.581404</td>\n",
       "      <td>Seafood, Asian, Filipino, Indian</td>\n",
       "      <td>...</td>\n",
       "      <td>Botswana Pula(P)</td>\n",
       "      <td>Yes</td>\n",
       "      <td>No</td>\n",
       "      <td>No</td>\n",
       "      <td>No</td>\n",
       "      <td>4</td>\n",
       "      <td>4.4</td>\n",
       "      <td>Green</td>\n",
       "      <td>Very Good</td>\n",
       "      <td>270</td>\n",
       "    </tr>\n",
       "    <tr>\n",
       "      <th>3</th>\n",
       "      <td>6318506</td>\n",
       "      <td>Ooma</td>\n",
       "      <td>162</td>\n",
       "      <td>Mandaluyong City</td>\n",
       "      <td>Third Floor, Mega Fashion Hall, SM Megamall, O...</td>\n",
       "      <td>SM Megamall, Ortigas, Mandaluyong City</td>\n",
       "      <td>SM Megamall, Ortigas, Mandaluyong City, Mandal...</td>\n",
       "      <td>121.056475</td>\n",
       "      <td>14.585318</td>\n",
       "      <td>Japanese, Sushi</td>\n",
       "      <td>...</td>\n",
       "      <td>Botswana Pula(P)</td>\n",
       "      <td>No</td>\n",
       "      <td>No</td>\n",
       "      <td>No</td>\n",
       "      <td>No</td>\n",
       "      <td>4</td>\n",
       "      <td>4.9</td>\n",
       "      <td>Dark Green</td>\n",
       "      <td>Excellent</td>\n",
       "      <td>365</td>\n",
       "    </tr>\n",
       "    <tr>\n",
       "      <th>4</th>\n",
       "      <td>6314302</td>\n",
       "      <td>Sambo Kojin</td>\n",
       "      <td>162</td>\n",
       "      <td>Mandaluyong City</td>\n",
       "      <td>Third Floor, Mega Atrium, SM Megamall, Ortigas...</td>\n",
       "      <td>SM Megamall, Ortigas, Mandaluyong City</td>\n",
       "      <td>SM Megamall, Ortigas, Mandaluyong City, Mandal...</td>\n",
       "      <td>121.057508</td>\n",
       "      <td>14.584450</td>\n",
       "      <td>Japanese, Korean</td>\n",
       "      <td>...</td>\n",
       "      <td>Botswana Pula(P)</td>\n",
       "      <td>Yes</td>\n",
       "      <td>No</td>\n",
       "      <td>No</td>\n",
       "      <td>No</td>\n",
       "      <td>4</td>\n",
       "      <td>4.8</td>\n",
       "      <td>Dark Green</td>\n",
       "      <td>Excellent</td>\n",
       "      <td>229</td>\n",
       "    </tr>\n",
       "  </tbody>\n",
       "</table>\n",
       "<p>5 rows × 21 columns</p>\n",
       "</div>"
      ],
      "text/plain": [
       "   Restaurant ID         Restaurant Name  Country Code              City  \\\n",
       "0        6317637        Le Petit Souffle           162       Makati City   \n",
       "1        6304287        Izakaya Kikufuji           162       Makati City   \n",
       "2        6300002  Heat - Edsa Shangri-La           162  Mandaluyong City   \n",
       "3        6318506                    Ooma           162  Mandaluyong City   \n",
       "4        6314302             Sambo Kojin           162  Mandaluyong City   \n",
       "\n",
       "                                             Address  \\\n",
       "0  Third Floor, Century City Mall, Kalayaan Avenu...   \n",
       "1  Little Tokyo, 2277 Chino Roces Avenue, Legaspi...   \n",
       "2  Edsa Shangri-La, 1 Garden Way, Ortigas, Mandal...   \n",
       "3  Third Floor, Mega Fashion Hall, SM Megamall, O...   \n",
       "4  Third Floor, Mega Atrium, SM Megamall, Ortigas...   \n",
       "\n",
       "                                     Locality  \\\n",
       "0   Century City Mall, Poblacion, Makati City   \n",
       "1  Little Tokyo, Legaspi Village, Makati City   \n",
       "2  Edsa Shangri-La, Ortigas, Mandaluyong City   \n",
       "3      SM Megamall, Ortigas, Mandaluyong City   \n",
       "4      SM Megamall, Ortigas, Mandaluyong City   \n",
       "\n",
       "                                    Locality Verbose   Longitude   Latitude  \\\n",
       "0  Century City Mall, Poblacion, Makati City, Mak...  121.027535  14.565443   \n",
       "1  Little Tokyo, Legaspi Village, Makati City, Ma...  121.014101  14.553708   \n",
       "2  Edsa Shangri-La, Ortigas, Mandaluyong City, Ma...  121.056831  14.581404   \n",
       "3  SM Megamall, Ortigas, Mandaluyong City, Mandal...  121.056475  14.585318   \n",
       "4  SM Megamall, Ortigas, Mandaluyong City, Mandal...  121.057508  14.584450   \n",
       "\n",
       "                           Cuisines  ...          Currency Has Table booking  \\\n",
       "0        French, Japanese, Desserts  ...  Botswana Pula(P)               Yes   \n",
       "1                          Japanese  ...  Botswana Pula(P)               Yes   \n",
       "2  Seafood, Asian, Filipino, Indian  ...  Botswana Pula(P)               Yes   \n",
       "3                   Japanese, Sushi  ...  Botswana Pula(P)                No   \n",
       "4                  Japanese, Korean  ...  Botswana Pula(P)               Yes   \n",
       "\n",
       "  Has Online delivery Is delivering now Switch to order menu Price range  \\\n",
       "0                  No                No                   No           3   \n",
       "1                  No                No                   No           3   \n",
       "2                  No                No                   No           4   \n",
       "3                  No                No                   No           4   \n",
       "4                  No                No                   No           4   \n",
       "\n",
       "   Aggregate rating  Rating color Rating text Votes  \n",
       "0               4.8    Dark Green   Excellent   314  \n",
       "1               4.5    Dark Green   Excellent   591  \n",
       "2               4.4         Green   Very Good   270  \n",
       "3               4.9    Dark Green   Excellent   365  \n",
       "4               4.8    Dark Green   Excellent   229  \n",
       "\n",
       "[5 rows x 21 columns]"
      ]
     },
     "execution_count": 3,
     "metadata": {},
     "output_type": "execute_result"
    }
   ],
   "source": [
    "zomato_df.head()                                                  # Visualizing top 5 rows"
   ]
  },
  {
   "cell_type": "code",
   "execution_count": 4,
   "metadata": {
    "colab": {},
    "colab_type": "code",
    "id": "JfPfaiqyTEk5"
   },
   "outputs": [],
   "source": [
    "country_df = pd.read_excel('Country-Code.xlsx')                         # Reading country code excel file"
   ]
  },
  {
   "cell_type": "code",
   "execution_count": 5,
   "metadata": {
    "colab": {
     "base_uri": "https://localhost:8080/",
     "height": 753
    },
    "colab_type": "code",
    "executionInfo": {
     "elapsed": 4888,
     "status": "ok",
     "timestamp": 1559630385067,
     "user": {
      "displayName": "Avinash Beck",
      "photoUrl": "",
      "userId": "14043619463729052163"
     },
     "user_tz": -330
    },
    "id": "M1PWrCLITEk8",
    "outputId": "14c8463e-b5ff-4562-fb76-912f56759dd7"
   },
   "outputs": [
    {
     "data": {
      "text/html": [
       "<div>\n",
       "<style scoped>\n",
       "    .dataframe tbody tr th:only-of-type {\n",
       "        vertical-align: middle;\n",
       "    }\n",
       "\n",
       "    .dataframe tbody tr th {\n",
       "        vertical-align: top;\n",
       "    }\n",
       "\n",
       "    .dataframe thead th {\n",
       "        text-align: right;\n",
       "    }\n",
       "</style>\n",
       "<table border=\"1\" class=\"dataframe\">\n",
       "  <thead>\n",
       "    <tr style=\"text-align: right;\">\n",
       "      <th></th>\n",
       "      <th>Restaurant ID</th>\n",
       "      <th>Restaurant Name</th>\n",
       "      <th>Country Code</th>\n",
       "      <th>City</th>\n",
       "      <th>Address</th>\n",
       "      <th>Locality</th>\n",
       "      <th>Locality Verbose</th>\n",
       "      <th>Longitude</th>\n",
       "      <th>Latitude</th>\n",
       "      <th>Cuisines</th>\n",
       "      <th>...</th>\n",
       "      <th>Has Table booking</th>\n",
       "      <th>Has Online delivery</th>\n",
       "      <th>Is delivering now</th>\n",
       "      <th>Switch to order menu</th>\n",
       "      <th>Price range</th>\n",
       "      <th>Aggregate rating</th>\n",
       "      <th>Rating color</th>\n",
       "      <th>Rating text</th>\n",
       "      <th>Votes</th>\n",
       "      <th>Country</th>\n",
       "    </tr>\n",
       "  </thead>\n",
       "  <tbody>\n",
       "    <tr>\n",
       "      <th>0</th>\n",
       "      <td>6317637</td>\n",
       "      <td>Le Petit Souffle</td>\n",
       "      <td>162</td>\n",
       "      <td>Makati City</td>\n",
       "      <td>Third Floor, Century City Mall, Kalayaan Avenu...</td>\n",
       "      <td>Century City Mall, Poblacion, Makati City</td>\n",
       "      <td>Century City Mall, Poblacion, Makati City, Mak...</td>\n",
       "      <td>121.027535</td>\n",
       "      <td>14.565443</td>\n",
       "      <td>French, Japanese, Desserts</td>\n",
       "      <td>...</td>\n",
       "      <td>Yes</td>\n",
       "      <td>No</td>\n",
       "      <td>No</td>\n",
       "      <td>No</td>\n",
       "      <td>3</td>\n",
       "      <td>4.8</td>\n",
       "      <td>Dark Green</td>\n",
       "      <td>Excellent</td>\n",
       "      <td>314</td>\n",
       "      <td>Phillipines</td>\n",
       "    </tr>\n",
       "    <tr>\n",
       "      <th>1</th>\n",
       "      <td>6304287</td>\n",
       "      <td>Izakaya Kikufuji</td>\n",
       "      <td>162</td>\n",
       "      <td>Makati City</td>\n",
       "      <td>Little Tokyo, 2277 Chino Roces Avenue, Legaspi...</td>\n",
       "      <td>Little Tokyo, Legaspi Village, Makati City</td>\n",
       "      <td>Little Tokyo, Legaspi Village, Makati City, Ma...</td>\n",
       "      <td>121.014101</td>\n",
       "      <td>14.553708</td>\n",
       "      <td>Japanese</td>\n",
       "      <td>...</td>\n",
       "      <td>Yes</td>\n",
       "      <td>No</td>\n",
       "      <td>No</td>\n",
       "      <td>No</td>\n",
       "      <td>3</td>\n",
       "      <td>4.5</td>\n",
       "      <td>Dark Green</td>\n",
       "      <td>Excellent</td>\n",
       "      <td>591</td>\n",
       "      <td>Phillipines</td>\n",
       "    </tr>\n",
       "    <tr>\n",
       "      <th>2</th>\n",
       "      <td>6300002</td>\n",
       "      <td>Heat - Edsa Shangri-La</td>\n",
       "      <td>162</td>\n",
       "      <td>Mandaluyong City</td>\n",
       "      <td>Edsa Shangri-La, 1 Garden Way, Ortigas, Mandal...</td>\n",
       "      <td>Edsa Shangri-La, Ortigas, Mandaluyong City</td>\n",
       "      <td>Edsa Shangri-La, Ortigas, Mandaluyong City, Ma...</td>\n",
       "      <td>121.056831</td>\n",
       "      <td>14.581404</td>\n",
       "      <td>Seafood, Asian, Filipino, Indian</td>\n",
       "      <td>...</td>\n",
       "      <td>Yes</td>\n",
       "      <td>No</td>\n",
       "      <td>No</td>\n",
       "      <td>No</td>\n",
       "      <td>4</td>\n",
       "      <td>4.4</td>\n",
       "      <td>Green</td>\n",
       "      <td>Very Good</td>\n",
       "      <td>270</td>\n",
       "      <td>Phillipines</td>\n",
       "    </tr>\n",
       "    <tr>\n",
       "      <th>3</th>\n",
       "      <td>6318506</td>\n",
       "      <td>Ooma</td>\n",
       "      <td>162</td>\n",
       "      <td>Mandaluyong City</td>\n",
       "      <td>Third Floor, Mega Fashion Hall, SM Megamall, O...</td>\n",
       "      <td>SM Megamall, Ortigas, Mandaluyong City</td>\n",
       "      <td>SM Megamall, Ortigas, Mandaluyong City, Mandal...</td>\n",
       "      <td>121.056475</td>\n",
       "      <td>14.585318</td>\n",
       "      <td>Japanese, Sushi</td>\n",
       "      <td>...</td>\n",
       "      <td>No</td>\n",
       "      <td>No</td>\n",
       "      <td>No</td>\n",
       "      <td>No</td>\n",
       "      <td>4</td>\n",
       "      <td>4.9</td>\n",
       "      <td>Dark Green</td>\n",
       "      <td>Excellent</td>\n",
       "      <td>365</td>\n",
       "      <td>Phillipines</td>\n",
       "    </tr>\n",
       "    <tr>\n",
       "      <th>4</th>\n",
       "      <td>6314302</td>\n",
       "      <td>Sambo Kojin</td>\n",
       "      <td>162</td>\n",
       "      <td>Mandaluyong City</td>\n",
       "      <td>Third Floor, Mega Atrium, SM Megamall, Ortigas...</td>\n",
       "      <td>SM Megamall, Ortigas, Mandaluyong City</td>\n",
       "      <td>SM Megamall, Ortigas, Mandaluyong City, Mandal...</td>\n",
       "      <td>121.057508</td>\n",
       "      <td>14.584450</td>\n",
       "      <td>Japanese, Korean</td>\n",
       "      <td>...</td>\n",
       "      <td>Yes</td>\n",
       "      <td>No</td>\n",
       "      <td>No</td>\n",
       "      <td>No</td>\n",
       "      <td>4</td>\n",
       "      <td>4.8</td>\n",
       "      <td>Dark Green</td>\n",
       "      <td>Excellent</td>\n",
       "      <td>229</td>\n",
       "      <td>Phillipines</td>\n",
       "    </tr>\n",
       "  </tbody>\n",
       "</table>\n",
       "<p>5 rows × 22 columns</p>\n",
       "</div>"
      ],
      "text/plain": [
       "   Restaurant ID         Restaurant Name  Country Code              City  \\\n",
       "0        6317637        Le Petit Souffle           162       Makati City   \n",
       "1        6304287        Izakaya Kikufuji           162       Makati City   \n",
       "2        6300002  Heat - Edsa Shangri-La           162  Mandaluyong City   \n",
       "3        6318506                    Ooma           162  Mandaluyong City   \n",
       "4        6314302             Sambo Kojin           162  Mandaluyong City   \n",
       "\n",
       "                                             Address  \\\n",
       "0  Third Floor, Century City Mall, Kalayaan Avenu...   \n",
       "1  Little Tokyo, 2277 Chino Roces Avenue, Legaspi...   \n",
       "2  Edsa Shangri-La, 1 Garden Way, Ortigas, Mandal...   \n",
       "3  Third Floor, Mega Fashion Hall, SM Megamall, O...   \n",
       "4  Third Floor, Mega Atrium, SM Megamall, Ortigas...   \n",
       "\n",
       "                                     Locality  \\\n",
       "0   Century City Mall, Poblacion, Makati City   \n",
       "1  Little Tokyo, Legaspi Village, Makati City   \n",
       "2  Edsa Shangri-La, Ortigas, Mandaluyong City   \n",
       "3      SM Megamall, Ortigas, Mandaluyong City   \n",
       "4      SM Megamall, Ortigas, Mandaluyong City   \n",
       "\n",
       "                                    Locality Verbose   Longitude   Latitude  \\\n",
       "0  Century City Mall, Poblacion, Makati City, Mak...  121.027535  14.565443   \n",
       "1  Little Tokyo, Legaspi Village, Makati City, Ma...  121.014101  14.553708   \n",
       "2  Edsa Shangri-La, Ortigas, Mandaluyong City, Ma...  121.056831  14.581404   \n",
       "3  SM Megamall, Ortigas, Mandaluyong City, Mandal...  121.056475  14.585318   \n",
       "4  SM Megamall, Ortigas, Mandaluyong City, Mandal...  121.057508  14.584450   \n",
       "\n",
       "                           Cuisines  ...  Has Table booking  \\\n",
       "0        French, Japanese, Desserts  ...                Yes   \n",
       "1                          Japanese  ...                Yes   \n",
       "2  Seafood, Asian, Filipino, Indian  ...                Yes   \n",
       "3                   Japanese, Sushi  ...                 No   \n",
       "4                  Japanese, Korean  ...                Yes   \n",
       "\n",
       "  Has Online delivery Is delivering now Switch to order menu Price range  \\\n",
       "0                  No                No                   No           3   \n",
       "1                  No                No                   No           3   \n",
       "2                  No                No                   No           4   \n",
       "3                  No                No                   No           4   \n",
       "4                  No                No                   No           4   \n",
       "\n",
       "  Aggregate rating  Rating color  Rating text Votes      Country  \n",
       "0              4.8    Dark Green    Excellent   314  Phillipines  \n",
       "1              4.5    Dark Green    Excellent   591  Phillipines  \n",
       "2              4.4         Green    Very Good   270  Phillipines  \n",
       "3              4.9    Dark Green    Excellent   365  Phillipines  \n",
       "4              4.8    Dark Green    Excellent   229  Phillipines  \n",
       "\n",
       "[5 rows x 22 columns]"
      ]
     },
     "execution_count": 5,
     "metadata": {},
     "output_type": "execute_result"
    }
   ],
   "source": [
    "zomato_data = pd.merge(zomato_df, country_df, on = 'Country Code')      # Pandas Merge function to join two dataframes\n",
    "zomato_data.head()"
   ]
  },
  {
   "cell_type": "markdown",
   "metadata": {
    "colab_type": "text",
    "id": "JEMbfi7eTElT"
   },
   "source": [
    "### Data Exploration"
   ]
  },
  {
   "cell_type": "markdown",
   "metadata": {
    "colab_type": "text",
    "id": "L9mrpY-aTElV"
   },
   "source": [
    "**Description of the numeric columns of dataset**"
   ]
  },
  {
   "cell_type": "code",
   "execution_count": 6,
   "metadata": {
    "colab": {},
    "colab_type": "code",
    "id": "S8lhPbaZTElX",
    "outputId": "cfd18fc1-36db-4ff3-d4b9-311fba56d560"
   },
   "outputs": [
    {
     "data": {
      "text/html": [
       "<div>\n",
       "<style scoped>\n",
       "    .dataframe tbody tr th:only-of-type {\n",
       "        vertical-align: middle;\n",
       "    }\n",
       "\n",
       "    .dataframe tbody tr th {\n",
       "        vertical-align: top;\n",
       "    }\n",
       "\n",
       "    .dataframe thead th {\n",
       "        text-align: right;\n",
       "    }\n",
       "</style>\n",
       "<table border=\"1\" class=\"dataframe\">\n",
       "  <thead>\n",
       "    <tr style=\"text-align: right;\">\n",
       "      <th></th>\n",
       "      <th>Average Cost for two</th>\n",
       "      <th>Price range</th>\n",
       "      <th>Aggregate rating</th>\n",
       "      <th>Votes</th>\n",
       "    </tr>\n",
       "  </thead>\n",
       "  <tbody>\n",
       "    <tr>\n",
       "      <th>count</th>\n",
       "      <td>9551.000000</td>\n",
       "      <td>9551.000000</td>\n",
       "      <td>9551.000000</td>\n",
       "      <td>9551.000000</td>\n",
       "    </tr>\n",
       "    <tr>\n",
       "      <th>mean</th>\n",
       "      <td>1199.210763</td>\n",
       "      <td>1.804837</td>\n",
       "      <td>2.666370</td>\n",
       "      <td>156.909748</td>\n",
       "    </tr>\n",
       "    <tr>\n",
       "      <th>std</th>\n",
       "      <td>16121.183073</td>\n",
       "      <td>0.905609</td>\n",
       "      <td>1.516378</td>\n",
       "      <td>430.169145</td>\n",
       "    </tr>\n",
       "    <tr>\n",
       "      <th>min</th>\n",
       "      <td>0.000000</td>\n",
       "      <td>1.000000</td>\n",
       "      <td>0.000000</td>\n",
       "      <td>0.000000</td>\n",
       "    </tr>\n",
       "    <tr>\n",
       "      <th>25%</th>\n",
       "      <td>250.000000</td>\n",
       "      <td>1.000000</td>\n",
       "      <td>2.500000</td>\n",
       "      <td>5.000000</td>\n",
       "    </tr>\n",
       "    <tr>\n",
       "      <th>50%</th>\n",
       "      <td>400.000000</td>\n",
       "      <td>2.000000</td>\n",
       "      <td>3.200000</td>\n",
       "      <td>31.000000</td>\n",
       "    </tr>\n",
       "    <tr>\n",
       "      <th>75%</th>\n",
       "      <td>700.000000</td>\n",
       "      <td>2.000000</td>\n",
       "      <td>3.700000</td>\n",
       "      <td>131.000000</td>\n",
       "    </tr>\n",
       "    <tr>\n",
       "      <th>max</th>\n",
       "      <td>800000.000000</td>\n",
       "      <td>4.000000</td>\n",
       "      <td>4.900000</td>\n",
       "      <td>10934.000000</td>\n",
       "    </tr>\n",
       "  </tbody>\n",
       "</table>\n",
       "</div>"
      ],
      "text/plain": [
       "       Average Cost for two  Price range  Aggregate rating         Votes\n",
       "count           9551.000000  9551.000000       9551.000000   9551.000000\n",
       "mean            1199.210763     1.804837          2.666370    156.909748\n",
       "std            16121.183073     0.905609          1.516378    430.169145\n",
       "min                0.000000     1.000000          0.000000      0.000000\n",
       "25%              250.000000     1.000000          2.500000      5.000000\n",
       "50%              400.000000     2.000000          3.200000     31.000000\n",
       "75%              700.000000     2.000000          3.700000    131.000000\n",
       "max           800000.000000     4.000000          4.900000  10934.000000"
      ]
     },
     "execution_count": 6,
     "metadata": {},
     "output_type": "execute_result"
    }
   ],
   "source": [
    "zomato_data[['Average Cost for two', 'Price range', 'Aggregate rating', 'Votes']].describe()"
   ]
  },
  {
   "cell_type": "markdown",
   "metadata": {
    "colab_type": "text",
    "id": "qviLh9-5TElg"
   },
   "source": [
    "**Observation**<br>\n",
    "There are 9551 rows in all columns and there are no missing data in numeric columns. <br>\n",
    "**Average Cost for two** <br>\n",
    "The Standard Deviation is very high on 'Average Cost for two'. \n",
    "It is for different countries having different currency. <br>\n",
    "There are 15 countries in this dataset and their currencies are not standardized. <br>\n",
    "Look at the maximum of average price for two : 800000."
   ]
  },
  {
   "cell_type": "code",
   "execution_count": 7,
   "metadata": {
    "colab": {},
    "colab_type": "code",
    "id": "CKQxYdJKTEli",
    "outputId": "29a91ee3-6a81-40b2-ab51-a5afa1be3751"
   },
   "outputs": [
    {
     "data": {
      "text/html": [
       "<div>\n",
       "<style scoped>\n",
       "    .dataframe tbody tr th:only-of-type {\n",
       "        vertical-align: middle;\n",
       "    }\n",
       "\n",
       "    .dataframe tbody tr th {\n",
       "        vertical-align: top;\n",
       "    }\n",
       "\n",
       "    .dataframe thead th {\n",
       "        text-align: right;\n",
       "    }\n",
       "</style>\n",
       "<table border=\"1\" class=\"dataframe\">\n",
       "  <thead>\n",
       "    <tr style=\"text-align: right;\">\n",
       "      <th></th>\n",
       "      <th>Restaurant ID</th>\n",
       "      <th>Restaurant Name</th>\n",
       "      <th>Country Code</th>\n",
       "      <th>City</th>\n",
       "      <th>Address</th>\n",
       "      <th>Locality</th>\n",
       "      <th>Locality Verbose</th>\n",
       "      <th>Longitude</th>\n",
       "      <th>Latitude</th>\n",
       "      <th>Cuisines</th>\n",
       "      <th>...</th>\n",
       "      <th>Has Table booking</th>\n",
       "      <th>Has Online delivery</th>\n",
       "      <th>Is delivering now</th>\n",
       "      <th>Switch to order menu</th>\n",
       "      <th>Price range</th>\n",
       "      <th>Aggregate rating</th>\n",
       "      <th>Rating color</th>\n",
       "      <th>Rating text</th>\n",
       "      <th>Votes</th>\n",
       "      <th>Country</th>\n",
       "    </tr>\n",
       "  </thead>\n",
       "  <tbody>\n",
       "    <tr>\n",
       "      <th>9283</th>\n",
       "      <td>7402935</td>\n",
       "      <td>Skye</td>\n",
       "      <td>94</td>\n",
       "      <td>Jakarta</td>\n",
       "      <td>Menara BCA, Lantai 56, Jl. MH. Thamrin, Thamri...</td>\n",
       "      <td>Grand Indonesia Mall, Thamrin</td>\n",
       "      <td>Grand Indonesia Mall, Thamrin, Jakarta</td>\n",
       "      <td>106.821999</td>\n",
       "      <td>-6.196778</td>\n",
       "      <td>Italian, Continental</td>\n",
       "      <td>...</td>\n",
       "      <td>No</td>\n",
       "      <td>No</td>\n",
       "      <td>No</td>\n",
       "      <td>No</td>\n",
       "      <td>3</td>\n",
       "      <td>4.1</td>\n",
       "      <td>Green</td>\n",
       "      <td>Very Good</td>\n",
       "      <td>1498</td>\n",
       "      <td>Indonesia</td>\n",
       "    </tr>\n",
       "    <tr>\n",
       "      <th>9284</th>\n",
       "      <td>7410290</td>\n",
       "      <td>Satoo - Hotel Shangri-La</td>\n",
       "      <td>94</td>\n",
       "      <td>Jakarta</td>\n",
       "      <td>Hotel Shangri-La, Jl. Jend. Sudirman</td>\n",
       "      <td>Hotel Shangri-La, Sudirman</td>\n",
       "      <td>Hotel Shangri-La, Sudirman, Jakarta</td>\n",
       "      <td>106.818961</td>\n",
       "      <td>-6.203292</td>\n",
       "      <td>Asian, Indonesian, Western</td>\n",
       "      <td>...</td>\n",
       "      <td>No</td>\n",
       "      <td>No</td>\n",
       "      <td>No</td>\n",
       "      <td>No</td>\n",
       "      <td>3</td>\n",
       "      <td>4.6</td>\n",
       "      <td>Dark Green</td>\n",
       "      <td>Excellent</td>\n",
       "      <td>873</td>\n",
       "      <td>Indonesia</td>\n",
       "    </tr>\n",
       "  </tbody>\n",
       "</table>\n",
       "<p>2 rows × 22 columns</p>\n",
       "</div>"
      ],
      "text/plain": [
       "      Restaurant ID           Restaurant Name  Country Code     City  \\\n",
       "9283        7402935                      Skye            94  Jakarta   \n",
       "9284        7410290  Satoo - Hotel Shangri-La            94  Jakarta   \n",
       "\n",
       "                                                Address  \\\n",
       "9283  Menara BCA, Lantai 56, Jl. MH. Thamrin, Thamri...   \n",
       "9284               Hotel Shangri-La, Jl. Jend. Sudirman   \n",
       "\n",
       "                           Locality                        Locality Verbose  \\\n",
       "9283  Grand Indonesia Mall, Thamrin  Grand Indonesia Mall, Thamrin, Jakarta   \n",
       "9284     Hotel Shangri-La, Sudirman     Hotel Shangri-La, Sudirman, Jakarta   \n",
       "\n",
       "       Longitude  Latitude                    Cuisines  ...  \\\n",
       "9283  106.821999 -6.196778        Italian, Continental  ...   \n",
       "9284  106.818961 -6.203292  Asian, Indonesian, Western  ...   \n",
       "\n",
       "      Has Table booking Has Online delivery Is delivering now  \\\n",
       "9283                 No                  No                No   \n",
       "9284                 No                  No                No   \n",
       "\n",
       "     Switch to order menu Price range Aggregate rating  Rating color  \\\n",
       "9283                   No           3              4.1         Green   \n",
       "9284                   No           3              4.6    Dark Green   \n",
       "\n",
       "      Rating text Votes    Country  \n",
       "9283    Very Good  1498  Indonesia  \n",
       "9284    Excellent   873  Indonesia  \n",
       "\n",
       "[2 rows x 22 columns]"
      ]
     },
     "execution_count": 7,
     "metadata": {},
     "output_type": "execute_result"
    }
   ],
   "source": [
    "zomato_data[zomato_data['Average Cost for two'] == 800000]             # Extract rows which meet a specific condition"
   ]
  },
  {
   "cell_type": "markdown",
   "metadata": {
    "colab_type": "text",
    "id": "eXWVbH7yTElq"
   },
   "source": [
    "On comparing 800000 Indonesian Rupiah to INR it is 3800INR, which is slightly high end."
   ]
  },
  {
   "cell_type": "markdown",
   "metadata": {
    "colab_type": "text",
    "id": "ct-8_IVgTEls"
   },
   "source": [
    "**Info of the dataset**"
   ]
  },
  {
   "cell_type": "code",
   "execution_count": 8,
   "metadata": {
    "colab": {},
    "colab_type": "code",
    "id": "UsuXgYzBTElu",
    "outputId": "e916df30-16c2-47b1-d01b-6581f4116899"
   },
   "outputs": [
    {
     "name": "stdout",
     "output_type": "stream",
     "text": [
      "<class 'pandas.core.frame.DataFrame'>\n",
      "Int64Index: 9551 entries, 0 to 9550\n",
      "Data columns (total 22 columns):\n",
      " #   Column                Non-Null Count  Dtype  \n",
      "---  ------                --------------  -----  \n",
      " 0   Restaurant ID         9551 non-null   int64  \n",
      " 1   Restaurant Name       9551 non-null   object \n",
      " 2   Country Code          9551 non-null   int64  \n",
      " 3   City                  9551 non-null   object \n",
      " 4   Address               9551 non-null   object \n",
      " 5   Locality              9551 non-null   object \n",
      " 6   Locality Verbose      9551 non-null   object \n",
      " 7   Longitude             9551 non-null   float64\n",
      " 8   Latitude              9551 non-null   float64\n",
      " 9   Cuisines              9542 non-null   object \n",
      " 10  Average Cost for two  9551 non-null   int64  \n",
      " 11  Currency              9551 non-null   object \n",
      " 12  Has Table booking     9551 non-null   object \n",
      " 13  Has Online delivery   9551 non-null   object \n",
      " 14  Is delivering now     9551 non-null   object \n",
      " 15  Switch to order menu  9551 non-null   object \n",
      " 16  Price range           9551 non-null   int64  \n",
      " 17  Aggregate rating      9551 non-null   float64\n",
      " 18  Rating color          9551 non-null   object \n",
      " 19  Rating text           9551 non-null   object \n",
      " 20  Votes                 9551 non-null   int64  \n",
      " 21  Country               9551 non-null   object \n",
      "dtypes: float64(3), int64(5), object(14)\n",
      "memory usage: 1.7+ MB\n"
     ]
    }
   ],
   "source": [
    "zomato_data.info()                                          # Checking the info of the dataset"
   ]
  },
  {
   "cell_type": "markdown",
   "metadata": {
    "colab_type": "text",
    "id": "xDtvOBraTEl5"
   },
   "source": [
    "**Observation** <br>\n",
    "There are no missing values in any columns except in cuisines. <br>\n",
    "Most of the rows are of datatype object i.e. they are categorical."
   ]
  },
  {
   "cell_type": "markdown",
   "metadata": {
    "colab_type": "text",
    "id": "ShIXi-edTEl9"
   },
   "source": [
    "**Missing values Imputation**"
   ]
  },
  {
   "cell_type": "code",
   "execution_count": 9,
   "metadata": {
    "colab": {},
    "colab_type": "code",
    "id": "UEYgjQJkTEmA"
   },
   "outputs": [],
   "source": [
    "# Filling the missing values in Cuisines\n",
    "\n",
    "zomato_data['Cuisines'].fillna(\"Others\", inplace=True)"
   ]
  },
  {
   "cell_type": "code",
   "execution_count": 10,
   "metadata": {
    "colab": {},
    "colab_type": "code",
    "id": "NC_z_82ATEmH"
   },
   "outputs": [],
   "source": [
    "# Filling any numeric missing values\n",
    "\n",
    "zomato_data['Aggregate rating'].fillna(zomato_data['Aggregate rating'].mean(), inplace=True)"
   ]
  },
  {
   "cell_type": "code",
   "execution_count": 11,
   "metadata": {
    "colab": {},
    "colab_type": "code",
    "id": "C0tLFJLTTEmO",
    "outputId": "9cec321d-a792-4147-b069-bbd1d5bd5824"
   },
   "outputs": [
    {
     "data": {
      "text/plain": [
       "(9551, 22)"
      ]
     },
     "execution_count": 11,
     "metadata": {},
     "output_type": "execute_result"
    }
   ],
   "source": [
    "zomato_data.shape                                    # Number of rows and columns in a dataframe"
   ]
  },
  {
   "cell_type": "markdown",
   "metadata": {
    "colab_type": "text",
    "id": "WndRp3C5TEmT"
   },
   "source": [
    "**Correlation plot of numeric columns**"
   ]
  },
  {
   "cell_type": "code",
   "execution_count": 12,
   "metadata": {
    "colab": {},
    "colab_type": "code",
    "id": "3kLununRTEmU",
    "outputId": "3a437de3-629f-4808-85aa-1f659538bd7d"
   },
   "outputs": [
    {
     "data": {
      "text/html": [
       "<div>\n",
       "<style scoped>\n",
       "    .dataframe tbody tr th:only-of-type {\n",
       "        vertical-align: middle;\n",
       "    }\n",
       "\n",
       "    .dataframe tbody tr th {\n",
       "        vertical-align: top;\n",
       "    }\n",
       "\n",
       "    .dataframe thead th {\n",
       "        text-align: right;\n",
       "    }\n",
       "</style>\n",
       "<table border=\"1\" class=\"dataframe\">\n",
       "  <thead>\n",
       "    <tr style=\"text-align: right;\">\n",
       "      <th></th>\n",
       "      <th>Average Cost for two</th>\n",
       "      <th>Price range</th>\n",
       "      <th>Aggregate rating</th>\n",
       "      <th>Votes</th>\n",
       "    </tr>\n",
       "  </thead>\n",
       "  <tbody>\n",
       "    <tr>\n",
       "      <th>Average Cost for two</th>\n",
       "      <td>1.000000</td>\n",
       "      <td>0.075083</td>\n",
       "      <td>0.051792</td>\n",
       "      <td>0.067783</td>\n",
       "    </tr>\n",
       "    <tr>\n",
       "      <th>Price range</th>\n",
       "      <td>0.075083</td>\n",
       "      <td>1.000000</td>\n",
       "      <td>0.437944</td>\n",
       "      <td>0.309444</td>\n",
       "    </tr>\n",
       "    <tr>\n",
       "      <th>Aggregate rating</th>\n",
       "      <td>0.051792</td>\n",
       "      <td>0.437944</td>\n",
       "      <td>1.000000</td>\n",
       "      <td>0.313691</td>\n",
       "    </tr>\n",
       "    <tr>\n",
       "      <th>Votes</th>\n",
       "      <td>0.067783</td>\n",
       "      <td>0.309444</td>\n",
       "      <td>0.313691</td>\n",
       "      <td>1.000000</td>\n",
       "    </tr>\n",
       "  </tbody>\n",
       "</table>\n",
       "</div>"
      ],
      "text/plain": [
       "                      Average Cost for two  Price range  Aggregate rating  \\\n",
       "Average Cost for two              1.000000     0.075083          0.051792   \n",
       "Price range                       0.075083     1.000000          0.437944   \n",
       "Aggregate rating                  0.051792     0.437944          1.000000   \n",
       "Votes                             0.067783     0.309444          0.313691   \n",
       "\n",
       "                         Votes  \n",
       "Average Cost for two  0.067783  \n",
       "Price range           0.309444  \n",
       "Aggregate rating      0.313691  \n",
       "Votes                 1.000000  "
      ]
     },
     "execution_count": 12,
     "metadata": {},
     "output_type": "execute_result"
    }
   ],
   "source": [
    "correlation = zomato_data[['Average Cost for two', 'Price range', 'Aggregate rating', 'Votes']].corr()\n",
    "correlation"
   ]
  },
  {
   "cell_type": "code",
   "execution_count": 13,
   "metadata": {
    "colab": {},
    "colab_type": "code",
    "id": "EbRdSiq7TEmY",
    "outputId": "96bcd15f-26a4-4921-b8dc-2cd84ff3f16e"
   },
   "outputs": [
    {
     "data": {
      "text/plain": [
       "<AxesSubplot:>"
      ]
     },
     "execution_count": 13,
     "metadata": {},
     "output_type": "execute_result"
    },
    {
     "data": {
      "image/png": "[encoded data removed]",
      "text/plain": [
       "<Figure size 432x288 with 2 Axes>"
      ]
     },
     "metadata": {
      "needs_background": "light"
     },
     "output_type": "display_data"
    }
   ],
   "source": [
    "sns.heatmap(correlation, vmin = -1, vmax = 1)                # Creating heatmap of the correlation matrix"
   ]
  },
  {
   "cell_type": "markdown",
   "metadata": {
    "colab_type": "text",
    "id": "e6zfJMxfTEmb"
   },
   "source": [
    "**Observation** <br>\n",
    "There is some correlation between *Price range* and *Aggregate rating* <br> \n",
    "The rest of the columns have no correlation. <br>\n",
    "\n",
    "If the Price range is higher, people should rate the restaurant higher."
   ]
  },
  {
   "cell_type": "markdown",
   "metadata": {
    "colab_type": "text",
    "id": "uotoDU5jTEmb"
   },
   "source": [
    "**Distribution of Aggregate Rating**"
   ]
  },
  {
   "cell_type": "code",
   "execution_count": 14,
   "metadata": {
    "colab": {},
    "colab_type": "code",
    "id": "TBcoSdJYTEmc",
    "outputId": "70af851d-931b-4e9c-ca96-7f2119756fbe",
    "scrolled": false
   },
   "outputs": [
    {
     "name": "stderr",
     "output_type": "stream",
     "text": [
      "C:\\Users\\Samiksha\\anaconda3\\lib\\site-packages\\seaborn\\distributions.py:2619: FutureWarning: `distplot` is a deprecated function and will be removed in a future version. Please adapt your code to use either `displot` (a figure-level function with similar flexibility) or `histplot` (an axes-level function for histograms).\n",
      "  warnings.warn(msg, FutureWarning)\n"
     ]
    },
    {
     "data": {
      "image/png": "[encoded data removed]",
      "text/plain": [
       "<Figure size 432x288 with 1 Axes>"
      ]
     },
     "metadata": {
      "needs_background": "light"
     },
     "output_type": "display_data"
    }
   ],
   "source": [
    "sns.distplot(zomato_data['Aggregate rating']);"
   ]
  },
  {
   "cell_type": "markdown",
   "metadata": {
    "colab_type": "text",
    "id": "6umj3O-ATEmf"
   },
   "source": [
    "**Observation**:  <br>\n",
    "A lot of restaurants are rated 0. After this most of the restaurants have been rated between 3 and 4."
   ]
  },
  {
   "cell_type": "markdown",
   "metadata": {
    "colab_type": "text",
    "id": "1_Z8OtP7TEmg"
   },
   "source": [
    "### Bivariate Analysis\n",
    "\n",
    "Here we check the relationship between two variables."
   ]
  },
  {
   "cell_type": "code",
   "execution_count": 15,
   "metadata": {
    "colab": {},
    "colab_type": "code",
    "id": "cafV2EDXTEmh",
    "outputId": "92e1778a-e96f-434f-909e-da6d5ba67a8d"
   },
   "outputs": [
    {
     "data": {
      "text/plain": [
       "<AxesSubplot:xlabel='Aggregate rating', ylabel='Votes'>"
      ]
     },
     "execution_count": 15,
     "metadata": {},
     "output_type": "execute_result"
    },
    {
     "data": {
      "image/png": "[encoded data removed]",
      "text/plain": [
       "<Figure size 432x288 with 1 Axes>"
      ]
     },
     "metadata": {
      "needs_background": "light"
     },
     "output_type": "display_data"
    }
   ],
   "source": [
    "# Relationship between Aggregate Ratings and Votes\n",
    "\n",
    "sns.scatterplot(x=zomato_data['Aggregate rating'], y= zomato_data['Votes'])"
   ]
  },
  {
   "cell_type": "markdown",
   "metadata": {
    "colab_type": "text",
    "id": "TjzrtcH_TEml"
   },
   "source": [
    "**Observation**: As the quality of food gets better, the aggregate ratings increases and the number of voters also increase."
   ]
  },
  {
   "cell_type": "code",
   "execution_count": 16,
   "metadata": {
    "colab": {},
    "colab_type": "code",
    "id": "oLjRN2O9TEmn",
    "outputId": "51009c98-d22e-4cd6-c4a2-8b1032b14ed7",
    "scrolled": false
   },
   "outputs": [
    {
     "data": {
      "text/plain": [
       "<AxesSubplot:xlabel='Aggregate rating', ylabel='Votes'>"
      ]
     },
     "execution_count": 16,
     "metadata": {},
     "output_type": "execute_result"
    },
    {
     "data": {
      "image/png": "[encoded data removed]",
      "text/plain": [
       "<Figure size 432x288 with 1 Axes>"
      ]
     },
     "metadata": {
      "needs_background": "light"
     },
     "output_type": "display_data"
    }
   ],
   "source": [
    "# Relationship between Aggregate Ratings and Votes\n",
    "\n",
    "sns.lineplot(x=zomato_data['Aggregate rating'], y= zomato_data['Votes'])"
   ]
  },
  {
   "cell_type": "markdown",
   "metadata": {
    "colab_type": "text",
    "id": "BcrdyTJwTEmu"
   },
   "source": [
    "**Obeservation** : Here we can see the same inference. Aggregate Ratings and Votes have an increasing trend."
   ]
  },
  {
   "cell_type": "code",
   "execution_count": 17,
   "metadata": {
    "colab": {},
    "colab_type": "code",
    "id": "QBMNqmS0TEmu",
    "outputId": "06f182aa-f97b-46e4-9fd0-dde307bdc549"
   },
   "outputs": [
    {
     "data": {
      "text/plain": [
       "<AxesSubplot:xlabel='Price range', ylabel='Aggregate rating'>"
      ]
     },
     "execution_count": 17,
     "metadata": {},
     "output_type": "execute_result"
    },
    {
     "data": {
      "image/png": "[encoded data removed]",
      "text/plain": [
       "<Figure size 432x288 with 1 Axes>"
      ]
     },
     "metadata": {
      "needs_background": "light"
     },
     "output_type": "display_data"
    }
   ],
   "source": [
    "# Relationship between Price range and Aggregate Ratings\n",
    "\n",
    "sns.violinplot(x='Price range', y='Aggregate rating', data = zomato_data)"
   ]
  },
  {
   "cell_type": "markdown",
   "metadata": {
    "colab_type": "text",
    "id": "fHPV8UsaTEmz"
   },
   "source": [
    "**Observation 1** <br>\n",
    "Here we can clearly see that with increase in Price range, the median of ratings also increase."
   ]
  },
  {
   "cell_type": "markdown",
   "metadata": {
    "colab_type": "text",
    "id": "H95wNdrOTEm0"
   },
   "source": [
    "**Question: Which countries have the highest number of restaurants in Zomato?**"
   ]
  },
  {
   "cell_type": "code",
   "execution_count": 18,
   "metadata": {
    "colab": {},
    "colab_type": "code",
    "id": "-SkFmeQrTEm1",
    "outputId": "ad997cb1-18f1-44c8-93c8-5b5d9d4ebecd"
   },
   "outputs": [
    {
     "data": {
      "image/png": "[encoded data removed]",
      "text/plain": [
       "<Figure size 1008x432 with 1 Axes>"
      ]
     },
     "metadata": {},
     "output_type": "display_data"
    }
   ],
   "source": [
    "\"\"\"\n",
    "The background is whitegrid\n",
    "The figure size is 14*6 \n",
    "The x-axis labels are written with a rotation of 45 degree\n",
    "setting the title to \"# of Restaurants registered in Zomato in different Countries \n",
    "\"\"\"\n",
    "\n",
    "sns.set_style('whitegrid')\n",
    "plt.figure(figsize = (14,6))\n",
    "sns.countplot(x= 'Country', data=zomato_data)\n",
    "plt.xticks(rotation=45)\n",
    "plt.title(\"# of Restaurants registered in Zomato in different Countries \");"
   ]
  },
  {
   "cell_type": "markdown",
   "metadata": {
    "colab_type": "text",
    "id": "R-CmBFnATEm5"
   },
   "source": [
    "**Observation** <br>\n",
    "Most of the reataurants are from India. <br>\n",
    "India - 8652 <br>\n",
    "World - 9551"
   ]
  },
  {
   "cell_type": "markdown",
   "metadata": {
    "colab_type": "text",
    "id": "_tooVp1wTEnB"
   },
   "source": [
    "### Zomato India <a id='india'></a>  <br>\n",
    "\n",
    "#### Objective: Our goal is to analyze which restaurants have poor ratings in Zomato and why?"
   ]
  },
  {
   "cell_type": "markdown",
   "metadata": {
    "colab_type": "text",
    "id": "JAwd3-wZTEnC"
   },
   "source": [
    "The number of restaurants registered in Zomato is highest in India.\n",
    "So lets look at the data of these restaurants."
   ]
  },
  {
   "cell_type": "code",
   "execution_count": 19,
   "metadata": {
    "colab": {},
    "colab_type": "code",
    "id": "NdbF7YKaTEnD",
    "outputId": "65d7f9f5-fc53-46f0-e96c-aa6757f2abb9"
   },
   "outputs": [
    {
     "data": {
      "text/html": [
       "<div>\n",
       "<style scoped>\n",
       "    .dataframe tbody tr th:only-of-type {\n",
       "        vertical-align: middle;\n",
       "    }\n",
       "\n",
       "    .dataframe tbody tr th {\n",
       "        vertical-align: top;\n",
       "    }\n",
       "\n",
       "    .dataframe thead th {\n",
       "        text-align: right;\n",
       "    }\n",
       "</style>\n",
       "<table border=\"1\" class=\"dataframe\">\n",
       "  <thead>\n",
       "    <tr style=\"text-align: right;\">\n",
       "      <th></th>\n",
       "      <th>Restaurant ID</th>\n",
       "      <th>Restaurant Name</th>\n",
       "      <th>Country Code</th>\n",
       "      <th>City</th>\n",
       "      <th>Address</th>\n",
       "      <th>Locality</th>\n",
       "      <th>Locality Verbose</th>\n",
       "      <th>Longitude</th>\n",
       "      <th>Latitude</th>\n",
       "      <th>Cuisines</th>\n",
       "      <th>...</th>\n",
       "      <th>Has Table booking</th>\n",
       "      <th>Has Online delivery</th>\n",
       "      <th>Is delivering now</th>\n",
       "      <th>Switch to order menu</th>\n",
       "      <th>Price range</th>\n",
       "      <th>Aggregate rating</th>\n",
       "      <th>Rating color</th>\n",
       "      <th>Rating text</th>\n",
       "      <th>Votes</th>\n",
       "      <th>Country</th>\n",
       "    </tr>\n",
       "  </thead>\n",
       "  <tbody>\n",
       "    <tr>\n",
       "      <th>624</th>\n",
       "      <td>3400025</td>\n",
       "      <td>Jahanpanah</td>\n",
       "      <td>1</td>\n",
       "      <td>Agra</td>\n",
       "      <td>E 23, Shopping Arcade, Sadar Bazaar, Agra Cant...</td>\n",
       "      <td>Agra Cantt</td>\n",
       "      <td>Agra Cantt, Agra</td>\n",
       "      <td>78.011544</td>\n",
       "      <td>27.161661</td>\n",
       "      <td>North Indian, Mughlai</td>\n",
       "      <td>...</td>\n",
       "      <td>No</td>\n",
       "      <td>No</td>\n",
       "      <td>No</td>\n",
       "      <td>No</td>\n",
       "      <td>3</td>\n",
       "      <td>3.9</td>\n",
       "      <td>Yellow</td>\n",
       "      <td>Good</td>\n",
       "      <td>140</td>\n",
       "      <td>India</td>\n",
       "    </tr>\n",
       "    <tr>\n",
       "      <th>625</th>\n",
       "      <td>3400341</td>\n",
       "      <td>Rangrezz Restaurant</td>\n",
       "      <td>1</td>\n",
       "      <td>Agra</td>\n",
       "      <td>E-20, Shopping Arcade, Sadar Bazaar, Agra Cant...</td>\n",
       "      <td>Agra Cantt</td>\n",
       "      <td>Agra Cantt, Agra</td>\n",
       "      <td>0.000000</td>\n",
       "      <td>0.000000</td>\n",
       "      <td>North Indian, Mughlai</td>\n",
       "      <td>...</td>\n",
       "      <td>No</td>\n",
       "      <td>No</td>\n",
       "      <td>No</td>\n",
       "      <td>No</td>\n",
       "      <td>2</td>\n",
       "      <td>3.5</td>\n",
       "      <td>Yellow</td>\n",
       "      <td>Good</td>\n",
       "      <td>71</td>\n",
       "      <td>India</td>\n",
       "    </tr>\n",
       "    <tr>\n",
       "      <th>626</th>\n",
       "      <td>3400005</td>\n",
       "      <td>Time2Eat - Mama Chicken</td>\n",
       "      <td>1</td>\n",
       "      <td>Agra</td>\n",
       "      <td>Main Market, Sadar Bazaar, Agra Cantt, Agra</td>\n",
       "      <td>Agra Cantt</td>\n",
       "      <td>Agra Cantt, Agra</td>\n",
       "      <td>78.011608</td>\n",
       "      <td>27.160832</td>\n",
       "      <td>North Indian</td>\n",
       "      <td>...</td>\n",
       "      <td>No</td>\n",
       "      <td>No</td>\n",
       "      <td>No</td>\n",
       "      <td>No</td>\n",
       "      <td>2</td>\n",
       "      <td>3.6</td>\n",
       "      <td>Yellow</td>\n",
       "      <td>Good</td>\n",
       "      <td>94</td>\n",
       "      <td>India</td>\n",
       "    </tr>\n",
       "    <tr>\n",
       "      <th>627</th>\n",
       "      <td>3400021</td>\n",
       "      <td>Chokho Jeeman Marwari Jain Bhojanalya</td>\n",
       "      <td>1</td>\n",
       "      <td>Agra</td>\n",
       "      <td>1/48, Delhi Gate, Station Road, Raja Mandi, Ci...</td>\n",
       "      <td>Civil Lines</td>\n",
       "      <td>Civil Lines, Agra</td>\n",
       "      <td>77.998092</td>\n",
       "      <td>27.195928</td>\n",
       "      <td>Rajasthani</td>\n",
       "      <td>...</td>\n",
       "      <td>No</td>\n",
       "      <td>No</td>\n",
       "      <td>No</td>\n",
       "      <td>No</td>\n",
       "      <td>2</td>\n",
       "      <td>4.0</td>\n",
       "      <td>Green</td>\n",
       "      <td>Very Good</td>\n",
       "      <td>87</td>\n",
       "      <td>India</td>\n",
       "    </tr>\n",
       "    <tr>\n",
       "      <th>628</th>\n",
       "      <td>3400017</td>\n",
       "      <td>Pinch Of Spice</td>\n",
       "      <td>1</td>\n",
       "      <td>Agra</td>\n",
       "      <td>23/453, Opposite Sanjay Cinema, Wazipura Road,...</td>\n",
       "      <td>Civil Lines</td>\n",
       "      <td>Civil Lines, Agra</td>\n",
       "      <td>78.007553</td>\n",
       "      <td>27.201725</td>\n",
       "      <td>North Indian, Chinese, Mughlai</td>\n",
       "      <td>...</td>\n",
       "      <td>No</td>\n",
       "      <td>No</td>\n",
       "      <td>No</td>\n",
       "      <td>No</td>\n",
       "      <td>3</td>\n",
       "      <td>4.2</td>\n",
       "      <td>Green</td>\n",
       "      <td>Very Good</td>\n",
       "      <td>177</td>\n",
       "      <td>India</td>\n",
       "    </tr>\n",
       "  </tbody>\n",
       "</table>\n",
       "<p>5 rows × 22 columns</p>\n",
       "</div>"
      ],
      "text/plain": [
       "     Restaurant ID                        Restaurant Name  Country Code  City  \\\n",
       "624        3400025                             Jahanpanah             1  Agra   \n",
       "625        3400341                    Rangrezz Restaurant             1  Agra   \n",
       "626        3400005                Time2Eat - Mama Chicken             1  Agra   \n",
       "627        3400021  Chokho Jeeman Marwari Jain Bhojanalya             1  Agra   \n",
       "628        3400017                         Pinch Of Spice             1  Agra   \n",
       "\n",
       "                                               Address     Locality  \\\n",
       "624  E 23, Shopping Arcade, Sadar Bazaar, Agra Cant...   Agra Cantt   \n",
       "625  E-20, Shopping Arcade, Sadar Bazaar, Agra Cant...   Agra Cantt   \n",
       "626        Main Market, Sadar Bazaar, Agra Cantt, Agra   Agra Cantt   \n",
       "627  1/48, Delhi Gate, Station Road, Raja Mandi, Ci...  Civil Lines   \n",
       "628  23/453, Opposite Sanjay Cinema, Wazipura Road,...  Civil Lines   \n",
       "\n",
       "      Locality Verbose  Longitude   Latitude                        Cuisines  \\\n",
       "624   Agra Cantt, Agra  78.011544  27.161661           North Indian, Mughlai   \n",
       "625   Agra Cantt, Agra   0.000000   0.000000           North Indian, Mughlai   \n",
       "626   Agra Cantt, Agra  78.011608  27.160832                    North Indian   \n",
       "627  Civil Lines, Agra  77.998092  27.195928                      Rajasthani   \n",
       "628  Civil Lines, Agra  78.007553  27.201725  North Indian, Chinese, Mughlai   \n",
       "\n",
       "     ...  Has Table booking Has Online delivery Is delivering now  \\\n",
       "624  ...                 No                  No                No   \n",
       "625  ...                 No                  No                No   \n",
       "626  ...                 No                  No                No   \n",
       "627  ...                 No                  No                No   \n",
       "628  ...                 No                  No                No   \n",
       "\n",
       "    Switch to order menu Price range Aggregate rating  Rating color  \\\n",
       "624                   No           3              3.9        Yellow   \n",
       "625                   No           2              3.5        Yellow   \n",
       "626                   No           2              3.6        Yellow   \n",
       "627                   No           2              4.0         Green   \n",
       "628                   No           3              4.2         Green   \n",
       "\n",
       "     Rating text Votes Country  \n",
       "624         Good   140   India  \n",
       "625         Good    71   India  \n",
       "626         Good    94   India  \n",
       "627    Very Good    87   India  \n",
       "628    Very Good   177   India  \n",
       "\n",
       "[5 rows x 22 columns]"
      ]
     },
     "execution_count": 19,
     "metadata": {},
     "output_type": "execute_result"
    }
   ],
   "source": [
    "zomato_india = zomato_data[zomato_data['Country'] == 'India']    # Filter the country by India and create a new dataframe\n",
    "zomato_india.head()"
   ]
  },
  {
   "cell_type": "markdown",
   "metadata": {
    "colab_type": "text",
    "id": "jD-J0uw0TEnH"
   },
   "source": [
    "**We have aggregate ratings and Rating text as two column of interest.**"
   ]
  },
  {
   "cell_type": "code",
   "execution_count": 20,
   "metadata": {
    "colab": {},
    "colab_type": "code",
    "id": "PTL_oPiZTEnK",
    "outputId": "09fbe4dc-fb61-4281-e294-5148c2ae0f69"
   },
   "outputs": [
    {
     "data": {
      "text/html": [
       "<div>\n",
       "<style scoped>\n",
       "    .dataframe tbody tr th:only-of-type {\n",
       "        vertical-align: middle;\n",
       "    }\n",
       "\n",
       "    .dataframe tbody tr th {\n",
       "        vertical-align: top;\n",
       "    }\n",
       "\n",
       "    .dataframe thead th {\n",
       "        text-align: right;\n",
       "    }\n",
       "</style>\n",
       "<table border=\"1\" class=\"dataframe\">\n",
       "  <thead>\n",
       "    <tr style=\"text-align: right;\">\n",
       "      <th></th>\n",
       "      <th>Restaurant ID</th>\n",
       "      <th>Country Code</th>\n",
       "      <th>Longitude</th>\n",
       "      <th>Latitude</th>\n",
       "      <th>Average Cost for two</th>\n",
       "      <th>Price range</th>\n",
       "      <th>Aggregate rating</th>\n",
       "      <th>Votes</th>\n",
       "    </tr>\n",
       "    <tr>\n",
       "      <th>Rating text</th>\n",
       "      <th></th>\n",
       "      <th></th>\n",
       "      <th></th>\n",
       "      <th></th>\n",
       "      <th></th>\n",
       "      <th></th>\n",
       "      <th></th>\n",
       "      <th></th>\n",
       "    </tr>\n",
       "  </thead>\n",
       "  <tbody>\n",
       "    <tr>\n",
       "      <th>Average</th>\n",
       "      <td>6.000801e+06</td>\n",
       "      <td>1.0</td>\n",
       "      <td>75.093777</td>\n",
       "      <td>27.697238</td>\n",
       "      <td>548.232735</td>\n",
       "      <td>1.617727</td>\n",
       "      <td>3.048722</td>\n",
       "      <td>47.844209</td>\n",
       "    </tr>\n",
       "    <tr>\n",
       "      <th>Excellent</th>\n",
       "      <td>8.174877e+06</td>\n",
       "      <td>1.0</td>\n",
       "      <td>75.245783</td>\n",
       "      <td>21.945669</td>\n",
       "      <td>1173.706897</td>\n",
       "      <td>2.706897</td>\n",
       "      <td>4.646552</td>\n",
       "      <td>1184.206897</td>\n",
       "    </tr>\n",
       "    <tr>\n",
       "      <th>Good</th>\n",
       "      <td>6.617615e+06</td>\n",
       "      <td>1.0</td>\n",
       "      <td>74.262800</td>\n",
       "      <td>26.541428</td>\n",
       "      <td>865.522469</td>\n",
       "      <td>2.108825</td>\n",
       "      <td>3.677423</td>\n",
       "      <td>238.798592</td>\n",
       "    </tr>\n",
       "    <tr>\n",
       "      <th>Not rated</th>\n",
       "      <td>1.558888e+07</td>\n",
       "      <td>1.0</td>\n",
       "      <td>66.939717</td>\n",
       "      <td>24.793691</td>\n",
       "      <td>341.598878</td>\n",
       "      <td>1.231417</td>\n",
       "      <td>0.000000</td>\n",
       "      <td>0.866293</td>\n",
       "    </tr>\n",
       "    <tr>\n",
       "      <th>Poor</th>\n",
       "      <td>2.864800e+06</td>\n",
       "      <td>1.0</td>\n",
       "      <td>76.802650</td>\n",
       "      <td>28.368948</td>\n",
       "      <td>647.777778</td>\n",
       "      <td>1.816667</td>\n",
       "      <td>2.296111</td>\n",
       "      <td>87.550000</td>\n",
       "    </tr>\n",
       "    <tr>\n",
       "      <th>Very Good</th>\n",
       "      <td>8.379847e+06</td>\n",
       "      <td>1.0</td>\n",
       "      <td>74.077409</td>\n",
       "      <td>24.585563</td>\n",
       "      <td>1148.771676</td>\n",
       "      <td>2.566474</td>\n",
       "      <td>4.153324</td>\n",
       "      <td>599.929191</td>\n",
       "    </tr>\n",
       "  </tbody>\n",
       "</table>\n",
       "</div>"
      ],
      "text/plain": [
       "             Restaurant ID  Country Code  Longitude   Latitude  \\\n",
       "Rating text                                                      \n",
       "Average       6.000801e+06           1.0  75.093777  27.697238   \n",
       "Excellent     8.174877e+06           1.0  75.245783  21.945669   \n",
       "Good          6.617615e+06           1.0  74.262800  26.541428   \n",
       "Not rated     1.558888e+07           1.0  66.939717  24.793691   \n",
       "Poor          2.864800e+06           1.0  76.802650  28.368948   \n",
       "Very Good     8.379847e+06           1.0  74.077409  24.585563   \n",
       "\n",
       "             Average Cost for two  Price range  Aggregate rating        Votes  \n",
       "Rating text                                                                    \n",
       "Average                548.232735     1.617727          3.048722    47.844209  \n",
       "Excellent             1173.706897     2.706897          4.646552  1184.206897  \n",
       "Good                   865.522469     2.108825          3.677423   238.798592  \n",
       "Not rated              341.598878     1.231417          0.000000     0.866293  \n",
       "Poor                   647.777778     1.816667          2.296111    87.550000  \n",
       "Very Good             1148.771676     2.566474          4.153324   599.929191  "
      ]
     },
     "execution_count": 20,
     "metadata": {},
     "output_type": "execute_result"
    }
   ],
   "source": [
    "zomato_india.groupby('Rating text').mean()              # Perform groupby using Rating text"
   ]
  },
  {
   "cell_type": "markdown",
   "metadata": {
    "colab_type": "text",
    "id": "G6evaV2YTEnO"
   },
   "source": [
    "**Excellent and Very Good** food ratings are provided in restaurants which are slightly premium cost and high price range.\n",
    "They also have huge number of votes. This can be due to high quality food or ambience due to which the price is high and so the ratings are good. "
   ]
  },
  {
   "cell_type": "code",
   "execution_count": 21,
   "metadata": {
    "colab": {},
    "colab_type": "code",
    "id": "yMUgpq-ITEnP",
    "outputId": "43646298-74b9-4780-b16f-096363faa9ac"
   },
   "outputs": [
    {
     "data": {
      "text/plain": [
       "<AxesSubplot:xlabel='Rating text', ylabel='Average Cost for two'>"
      ]
     },
     "execution_count": 21,
     "metadata": {},
     "output_type": "execute_result"
    },
    {
     "data": {
      "image/png": "[encoded data removed]",
      "text/plain": [
       "<Figure size 432x288 with 1 Axes>"
      ]
     },
     "metadata": {},
     "output_type": "display_data"
    }
   ],
   "source": [
    "# Relationship between Average Cost for two and Rating text\n",
    "\n",
    "sns.boxplot(y = 'Average Cost for two', x = 'Rating text', data = zomato_india)"
   ]
  },
  {
   "cell_type": "markdown",
   "metadata": {
    "colab_type": "text",
    "id": "J3o2hWAbTEnT"
   },
   "source": [
    "Ratings improve as the average cost for two increases."
   ]
  },
  {
   "cell_type": "code",
   "execution_count": 22,
   "metadata": {
    "colab": {},
    "colab_type": "code",
    "id": "vNMMxi-fTEnT",
    "outputId": "5ec817f7-a328-4c0b-dbc6-169ac90ae4a0"
   },
   "outputs": [
    {
     "data": {
      "text/plain": [
       "<AxesSubplot:xlabel='Rating text', ylabel='Price range'>"
      ]
     },
     "execution_count": 22,
     "metadata": {},
     "output_type": "execute_result"
    },
    {
     "data": {
      "image/png": "[encoded data removed]",
      "text/plain": [
       "<Figure size 432x288 with 1 Axes>"
      ]
     },
     "metadata": {},
     "output_type": "display_data"
    }
   ],
   "source": [
    "# Relationship between Price range and Rating text\n",
    "\n",
    "sns.boxplot(y = 'Price range', x = 'Rating text', data = zomato_india)"
   ]
  },
  {
   "cell_type": "markdown",
   "metadata": {
    "colab_type": "text",
    "id": "so1avZdKTEnX"
   },
   "source": [
    "**Excellent and Very Good** restaurants have very high price.  <br>\n",
    "**Average and Poor** have the lowest price range."
   ]
  },
  {
   "cell_type": "markdown",
   "metadata": {
    "colab_type": "text",
    "id": "zMgWXVGnTEnX"
   },
   "source": [
    "### Lets identify restaurants which have high price range and low ratings"
   ]
  },
  {
   "cell_type": "code",
   "execution_count": 23,
   "metadata": {
    "colab": {},
    "colab_type": "code",
    "id": "g1i5SiAXTEnY",
    "outputId": "82508e79-82ec-4431-b1a1-510e23b01036"
   },
   "outputs": [
    {
     "data": {
      "text/plain": [
       "1    4295\n",
       "2    2858\n",
       "3    1111\n",
       "4     388\n",
       "Name: Price range, dtype: int64"
      ]
     },
     "execution_count": 23,
     "metadata": {},
     "output_type": "execute_result"
    }
   ],
   "source": [
    "zomato_india['Price range'].value_counts()"
   ]
  },
  {
   "cell_type": "code",
   "execution_count": 24,
   "metadata": {
    "colab": {},
    "colab_type": "code",
    "id": "QvenuVcsTEnb",
    "outputId": "56b9b90c-b2bc-4db9-d3e0-74f2aa6ee233"
   },
   "outputs": [
    {
     "data": {
      "text/html": [
       "<div>\n",
       "<style scoped>\n",
       "    .dataframe tbody tr th:only-of-type {\n",
       "        vertical-align: middle;\n",
       "    }\n",
       "\n",
       "    .dataframe tbody tr th {\n",
       "        vertical-align: top;\n",
       "    }\n",
       "\n",
       "    .dataframe thead th {\n",
       "        text-align: right;\n",
       "    }\n",
       "</style>\n",
       "<table border=\"1\" class=\"dataframe\">\n",
       "  <thead>\n",
       "    <tr style=\"text-align: right;\">\n",
       "      <th></th>\n",
       "      <th>Restaurant ID</th>\n",
       "      <th>Restaurant Name</th>\n",
       "      <th>Country Code</th>\n",
       "      <th>City</th>\n",
       "      <th>Address</th>\n",
       "      <th>Locality</th>\n",
       "      <th>Locality Verbose</th>\n",
       "      <th>Longitude</th>\n",
       "      <th>Latitude</th>\n",
       "      <th>Cuisines</th>\n",
       "      <th>...</th>\n",
       "      <th>Has Table booking</th>\n",
       "      <th>Has Online delivery</th>\n",
       "      <th>Is delivering now</th>\n",
       "      <th>Switch to order menu</th>\n",
       "      <th>Price range</th>\n",
       "      <th>Aggregate rating</th>\n",
       "      <th>Rating color</th>\n",
       "      <th>Rating text</th>\n",
       "      <th>Votes</th>\n",
       "      <th>Country</th>\n",
       "    </tr>\n",
       "  </thead>\n",
       "  <tbody>\n",
       "    <tr>\n",
       "      <th>629</th>\n",
       "      <td>3400325</td>\n",
       "      <td>MoMo Cafe</td>\n",
       "      <td>1</td>\n",
       "      <td>Agra</td>\n",
       "      <td>Courtyard by Marriott Agra, Phase 2, Fatehabad...</td>\n",
       "      <td>Courtyard by Marriott Agra, Tajganj</td>\n",
       "      <td>Courtyard by Marriott Agra, Tajganj, Agra</td>\n",
       "      <td>0.000000</td>\n",
       "      <td>0.000000</td>\n",
       "      <td>North Indian, European</td>\n",
       "      <td>...</td>\n",
       "      <td>No</td>\n",
       "      <td>No</td>\n",
       "      <td>No</td>\n",
       "      <td>No</td>\n",
       "      <td>4</td>\n",
       "      <td>4.0</td>\n",
       "      <td>Green</td>\n",
       "      <td>Very Good</td>\n",
       "      <td>45</td>\n",
       "      <td>India</td>\n",
       "    </tr>\n",
       "    <tr>\n",
       "      <th>630</th>\n",
       "      <td>3400059</td>\n",
       "      <td>Peshawri - ITC Mughal</td>\n",
       "      <td>1</td>\n",
       "      <td>Agra</td>\n",
       "      <td>ITC Mughal, Fatehabad Road, Tajganj, Agra</td>\n",
       "      <td>ITC Mughal, Tajganj</td>\n",
       "      <td>ITC Mughal, Tajganj, Agra</td>\n",
       "      <td>78.044095</td>\n",
       "      <td>27.160934</td>\n",
       "      <td>North Indian, Mughlai</td>\n",
       "      <td>...</td>\n",
       "      <td>No</td>\n",
       "      <td>No</td>\n",
       "      <td>No</td>\n",
       "      <td>No</td>\n",
       "      <td>4</td>\n",
       "      <td>4.3</td>\n",
       "      <td>Green</td>\n",
       "      <td>Very Good</td>\n",
       "      <td>133</td>\n",
       "      <td>India</td>\n",
       "    </tr>\n",
       "    <tr>\n",
       "      <th>631</th>\n",
       "      <td>3400060</td>\n",
       "      <td>Taj Bano - ITC Mughal</td>\n",
       "      <td>1</td>\n",
       "      <td>Agra</td>\n",
       "      <td>ITC Mughal, Fatehabad Road, Tajganj, Agra</td>\n",
       "      <td>ITC Mughal, Tajganj</td>\n",
       "      <td>ITC Mughal, Tajganj, Agra</td>\n",
       "      <td>78.044095</td>\n",
       "      <td>27.160934</td>\n",
       "      <td>Mughlai</td>\n",
       "      <td>...</td>\n",
       "      <td>No</td>\n",
       "      <td>No</td>\n",
       "      <td>No</td>\n",
       "      <td>No</td>\n",
       "      <td>4</td>\n",
       "      <td>4.0</td>\n",
       "      <td>Green</td>\n",
       "      <td>Very Good</td>\n",
       "      <td>41</td>\n",
       "      <td>India</td>\n",
       "    </tr>\n",
       "    <tr>\n",
       "      <th>633</th>\n",
       "      <td>3400072</td>\n",
       "      <td>Dawat-e-Nawab - Radisson Blu</td>\n",
       "      <td>1</td>\n",
       "      <td>Agra</td>\n",
       "      <td>Radisson Blu, Taj East Gate Road, Tajganj, Agra</td>\n",
       "      <td>Radisson Blu, Tajganj</td>\n",
       "      <td>Radisson Blu, Tajganj, Agra</td>\n",
       "      <td>78.057044</td>\n",
       "      <td>27.163303</td>\n",
       "      <td>North Indian, Mughlai</td>\n",
       "      <td>...</td>\n",
       "      <td>No</td>\n",
       "      <td>No</td>\n",
       "      <td>No</td>\n",
       "      <td>No</td>\n",
       "      <td>4</td>\n",
       "      <td>3.8</td>\n",
       "      <td>Yellow</td>\n",
       "      <td>Good</td>\n",
       "      <td>46</td>\n",
       "      <td>India</td>\n",
       "    </tr>\n",
       "    <tr>\n",
       "      <th>638</th>\n",
       "      <td>3400350</td>\n",
       "      <td>Bon Barbecue</td>\n",
       "      <td>1</td>\n",
       "      <td>Agra</td>\n",
       "      <td>Parador Hotel, 3A-3B, Phase 1, Fatehabad Road,...</td>\n",
       "      <td>Tajganj</td>\n",
       "      <td>Tajganj, Agra</td>\n",
       "      <td>0.000000</td>\n",
       "      <td>0.000000</td>\n",
       "      <td>North Indian, Chinese, Continental</td>\n",
       "      <td>...</td>\n",
       "      <td>No</td>\n",
       "      <td>No</td>\n",
       "      <td>No</td>\n",
       "      <td>No</td>\n",
       "      <td>4</td>\n",
       "      <td>3.8</td>\n",
       "      <td>Yellow</td>\n",
       "      <td>Good</td>\n",
       "      <td>57</td>\n",
       "      <td>India</td>\n",
       "    </tr>\n",
       "    <tr>\n",
       "      <th>...</th>\n",
       "      <td>...</td>\n",
       "      <td>...</td>\n",
       "      <td>...</td>\n",
       "      <td>...</td>\n",
       "      <td>...</td>\n",
       "      <td>...</td>\n",
       "      <td>...</td>\n",
       "      <td>...</td>\n",
       "      <td>...</td>\n",
       "      <td>...</td>\n",
       "      <td>...</td>\n",
       "      <td>...</td>\n",
       "      <td>...</td>\n",
       "      <td>...</td>\n",
       "      <td>...</td>\n",
       "      <td>...</td>\n",
       "      <td>...</td>\n",
       "      <td>...</td>\n",
       "      <td>...</td>\n",
       "      <td>...</td>\n",
       "      <td>...</td>\n",
       "    </tr>\n",
       "    <tr>\n",
       "      <th>9251</th>\n",
       "      <td>3900010</td>\n",
       "      <td>The Great Kabab Factory - Radisson Hotel</td>\n",
       "      <td>1</td>\n",
       "      <td>Varanasi</td>\n",
       "      <td>Radisson Hotel, The Mall Road, Nadesar, Varanasi</td>\n",
       "      <td>Radisson Hotel, Nadesar</td>\n",
       "      <td>Radisson Hotel, Nadesar, Varanasi</td>\n",
       "      <td>82.980810</td>\n",
       "      <td>25.338373</td>\n",
       "      <td>North Indian, Mughlai</td>\n",
       "      <td>...</td>\n",
       "      <td>No</td>\n",
       "      <td>No</td>\n",
       "      <td>No</td>\n",
       "      <td>No</td>\n",
       "      <td>4</td>\n",
       "      <td>3.3</td>\n",
       "      <td>Orange</td>\n",
       "      <td>Average</td>\n",
       "      <td>67</td>\n",
       "      <td>India</td>\n",
       "    </tr>\n",
       "    <tr>\n",
       "      <th>9252</th>\n",
       "      <td>3900055</td>\n",
       "      <td>I:ba Cafe &amp; Restaurant</td>\n",
       "      <td>1</td>\n",
       "      <td>Varanasi</td>\n",
       "      <td>B 3/335, Krimkund, Shivala, Varanasi</td>\n",
       "      <td>Shivala</td>\n",
       "      <td>Shivala, Varanasi</td>\n",
       "      <td>0.000000</td>\n",
       "      <td>0.000000</td>\n",
       "      <td>Japanese, American, North Indian, Fast Food</td>\n",
       "      <td>...</td>\n",
       "      <td>No</td>\n",
       "      <td>No</td>\n",
       "      <td>No</td>\n",
       "      <td>No</td>\n",
       "      <td>4</td>\n",
       "      <td>3.5</td>\n",
       "      <td>Yellow</td>\n",
       "      <td>Good</td>\n",
       "      <td>83</td>\n",
       "      <td>India</td>\n",
       "    </tr>\n",
       "    <tr>\n",
       "      <th>9260</th>\n",
       "      <td>2800052</td>\n",
       "      <td>The Square - Hotel Novotel</td>\n",
       "      <td>1</td>\n",
       "      <td>Vizag</td>\n",
       "      <td>Hotel Novotel, Beach Road, Maharani Peta, Vizag</td>\n",
       "      <td>Hotel Novotel, Maharani Peta</td>\n",
       "      <td>Hotel Novotel, Maharani Peta, Vizag</td>\n",
       "      <td>83.315935</td>\n",
       "      <td>17.710690</td>\n",
       "      <td>Continental, North Indian</td>\n",
       "      <td>...</td>\n",
       "      <td>No</td>\n",
       "      <td>No</td>\n",
       "      <td>No</td>\n",
       "      <td>No</td>\n",
       "      <td>4</td>\n",
       "      <td>4.1</td>\n",
       "      <td>Green</td>\n",
       "      <td>Very Good</td>\n",
       "      <td>125</td>\n",
       "      <td>India</td>\n",
       "    </tr>\n",
       "    <tr>\n",
       "      <th>9262</th>\n",
       "      <td>2800856</td>\n",
       "      <td>Barbeque Nation</td>\n",
       "      <td>1</td>\n",
       "      <td>Vizag</td>\n",
       "      <td>1st Floor, ATR Towers, Harbour Park Road,  Pan...</td>\n",
       "      <td>Kirlampudi Layout</td>\n",
       "      <td>Kirlampudi Layout, Vizag</td>\n",
       "      <td>0.000000</td>\n",
       "      <td>0.000000</td>\n",
       "      <td>North Indian, Chinese, Mediterranean</td>\n",
       "      <td>...</td>\n",
       "      <td>No</td>\n",
       "      <td>No</td>\n",
       "      <td>No</td>\n",
       "      <td>No</td>\n",
       "      <td>4</td>\n",
       "      <td>4.9</td>\n",
       "      <td>Dark Green</td>\n",
       "      <td>Excellent</td>\n",
       "      <td>345</td>\n",
       "      <td>India</td>\n",
       "    </tr>\n",
       "    <tr>\n",
       "      <th>9274</th>\n",
       "      <td>2800042</td>\n",
       "      <td>Vista - The Park</td>\n",
       "      <td>1</td>\n",
       "      <td>Vizag</td>\n",
       "      <td>The Park, Beach Road, Pedda Waltair, Lawsons B...</td>\n",
       "      <td>The Park, Lawsons Bay</td>\n",
       "      <td>The Park, Lawsons Bay, Vizag</td>\n",
       "      <td>83.336840</td>\n",
       "      <td>17.721182</td>\n",
       "      <td>American, North Indian, Thai, Continental</td>\n",
       "      <td>...</td>\n",
       "      <td>No</td>\n",
       "      <td>No</td>\n",
       "      <td>No</td>\n",
       "      <td>No</td>\n",
       "      <td>4</td>\n",
       "      <td>3.8</td>\n",
       "      <td>Yellow</td>\n",
       "      <td>Good</td>\n",
       "      <td>74</td>\n",
       "      <td>India</td>\n",
       "    </tr>\n",
       "  </tbody>\n",
       "</table>\n",
       "<p>388 rows × 22 columns</p>\n",
       "</div>"
      ],
      "text/plain": [
       "      Restaurant ID                           Restaurant Name  Country Code  \\\n",
       "629         3400325                                 MoMo Cafe             1   \n",
       "630         3400059                     Peshawri - ITC Mughal             1   \n",
       "631         3400060                     Taj Bano - ITC Mughal             1   \n",
       "633         3400072              Dawat-e-Nawab - Radisson Blu             1   \n",
       "638         3400350                              Bon Barbecue             1   \n",
       "...             ...                                       ...           ...   \n",
       "9251        3900010  The Great Kabab Factory - Radisson Hotel             1   \n",
       "9252        3900055                    I:ba Cafe & Restaurant             1   \n",
       "9260        2800052                The Square - Hotel Novotel             1   \n",
       "9262        2800856                           Barbeque Nation             1   \n",
       "9274        2800042                          Vista - The Park             1   \n",
       "\n",
       "          City                                            Address  \\\n",
       "629       Agra  Courtyard by Marriott Agra, Phase 2, Fatehabad...   \n",
       "630       Agra          ITC Mughal, Fatehabad Road, Tajganj, Agra   \n",
       "631       Agra          ITC Mughal, Fatehabad Road, Tajganj, Agra   \n",
       "633       Agra    Radisson Blu, Taj East Gate Road, Tajganj, Agra   \n",
       "638       Agra  Parador Hotel, 3A-3B, Phase 1, Fatehabad Road,...   \n",
       "...        ...                                                ...   \n",
       "9251  Varanasi   Radisson Hotel, The Mall Road, Nadesar, Varanasi   \n",
       "9252  Varanasi               B 3/335, Krimkund, Shivala, Varanasi   \n",
       "9260     Vizag    Hotel Novotel, Beach Road, Maharani Peta, Vizag   \n",
       "9262     Vizag  1st Floor, ATR Towers, Harbour Park Road,  Pan...   \n",
       "9274     Vizag  The Park, Beach Road, Pedda Waltair, Lawsons B...   \n",
       "\n",
       "                                 Locality  \\\n",
       "629   Courtyard by Marriott Agra, Tajganj   \n",
       "630                   ITC Mughal, Tajganj   \n",
       "631                   ITC Mughal, Tajganj   \n",
       "633                 Radisson Blu, Tajganj   \n",
       "638                               Tajganj   \n",
       "...                                   ...   \n",
       "9251              Radisson Hotel, Nadesar   \n",
       "9252                              Shivala   \n",
       "9260         Hotel Novotel, Maharani Peta   \n",
       "9262                    Kirlampudi Layout   \n",
       "9274                The Park, Lawsons Bay   \n",
       "\n",
       "                               Locality Verbose  Longitude   Latitude  \\\n",
       "629   Courtyard by Marriott Agra, Tajganj, Agra   0.000000   0.000000   \n",
       "630                   ITC Mughal, Tajganj, Agra  78.044095  27.160934   \n",
       "631                   ITC Mughal, Tajganj, Agra  78.044095  27.160934   \n",
       "633                 Radisson Blu, Tajganj, Agra  78.057044  27.163303   \n",
       "638                               Tajganj, Agra   0.000000   0.000000   \n",
       "...                                         ...        ...        ...   \n",
       "9251          Radisson Hotel, Nadesar, Varanasi  82.980810  25.338373   \n",
       "9252                          Shivala, Varanasi   0.000000   0.000000   \n",
       "9260        Hotel Novotel, Maharani Peta, Vizag  83.315935  17.710690   \n",
       "9262                   Kirlampudi Layout, Vizag   0.000000   0.000000   \n",
       "9274               The Park, Lawsons Bay, Vizag  83.336840  17.721182   \n",
       "\n",
       "                                         Cuisines  ...  Has Table booking  \\\n",
       "629                        North Indian, European  ...                 No   \n",
       "630                         North Indian, Mughlai  ...                 No   \n",
       "631                                       Mughlai  ...                 No   \n",
       "633                         North Indian, Mughlai  ...                 No   \n",
       "638            North Indian, Chinese, Continental  ...                 No   \n",
       "...                                           ...  ...                ...   \n",
       "9251                        North Indian, Mughlai  ...                 No   \n",
       "9252  Japanese, American, North Indian, Fast Food  ...                 No   \n",
       "9260                    Continental, North Indian  ...                 No   \n",
       "9262         North Indian, Chinese, Mediterranean  ...                 No   \n",
       "9274    American, North Indian, Thai, Continental  ...                 No   \n",
       "\n",
       "     Has Online delivery Is delivering now Switch to order menu Price range  \\\n",
       "629                   No                No                   No           4   \n",
       "630                   No                No                   No           4   \n",
       "631                   No                No                   No           4   \n",
       "633                   No                No                   No           4   \n",
       "638                   No                No                   No           4   \n",
       "...                  ...               ...                  ...         ...   \n",
       "9251                  No                No                   No           4   \n",
       "9252                  No                No                   No           4   \n",
       "9260                  No                No                   No           4   \n",
       "9262                  No                No                   No           4   \n",
       "9274                  No                No                   No           4   \n",
       "\n",
       "     Aggregate rating  Rating color  Rating text Votes Country  \n",
       "629               4.0         Green    Very Good    45   India  \n",
       "630               4.3         Green    Very Good   133   India  \n",
       "631               4.0         Green    Very Good    41   India  \n",
       "633               3.8        Yellow         Good    46   India  \n",
       "638               3.8        Yellow         Good    57   India  \n",
       "...               ...           ...          ...   ...     ...  \n",
       "9251              3.3        Orange      Average    67   India  \n",
       "9252              3.5        Yellow         Good    83   India  \n",
       "9260              4.1         Green    Very Good   125   India  \n",
       "9262              4.9    Dark Green    Excellent   345   India  \n",
       "9274              3.8        Yellow         Good    74   India  \n",
       "\n",
       "[388 rows x 22 columns]"
      ]
     },
     "execution_count": 24,
     "metadata": {},
     "output_type": "execute_result"
    }
   ],
   "source": [
    "# Lets have a look at the expensive restaurants\n",
    "\n",
    "exp_india_restaurant = zomato_india[zomato_india['Price range'] == 4]\n",
    "exp_india_restaurant"
   ]
  },
  {
   "cell_type": "code",
   "execution_count": 25,
   "metadata": {
    "colab": {},
    "colab_type": "code",
    "id": "RhK2fv3BTEne",
    "outputId": "a0c8e4f0-c366-476a-93f1-485abd664795"
   },
   "outputs": [
    {
     "data": {
      "text/plain": [
       "Good         167\n",
       "Very Good     97\n",
       "Average       88\n",
       "Excellent     20\n",
       "Not rated     11\n",
       "Poor           5\n",
       "Name: Rating text, dtype: int64"
      ]
     },
     "execution_count": 25,
     "metadata": {},
     "output_type": "execute_result"
    }
   ],
   "source": [
    "# Lets check the ratings of these restaurants\n",
    "\n",
    "exp_india_restaurant['Rating text'].value_counts()"
   ]
  },
  {
   "cell_type": "markdown",
   "metadata": {
    "colab_type": "text",
    "id": "RvroJ7FhTEnh"
   },
   "source": [
    "**As the price range is high, most of the ratings are good.**  <br>\n",
    "So if price is high, why will be there be 5 poor ratings?"
   ]
  },
  {
   "cell_type": "code",
   "execution_count": 26,
   "metadata": {
    "colab": {},
    "colab_type": "code",
    "id": "YQydq3l0TEnn",
    "outputId": "703262e8-06f7-4c6d-fb7b-15a06647fc8f"
   },
   "outputs": [
    {
     "data": {
      "text/html": [
       "<div>\n",
       "<style scoped>\n",
       "    .dataframe tbody tr th:only-of-type {\n",
       "        vertical-align: middle;\n",
       "    }\n",
       "\n",
       "    .dataframe tbody tr th {\n",
       "        vertical-align: top;\n",
       "    }\n",
       "\n",
       "    .dataframe thead th {\n",
       "        text-align: right;\n",
       "    }\n",
       "</style>\n",
       "<table border=\"1\" class=\"dataframe\">\n",
       "  <thead>\n",
       "    <tr style=\"text-align: right;\">\n",
       "      <th></th>\n",
       "      <th>Restaurant ID</th>\n",
       "      <th>Restaurant Name</th>\n",
       "      <th>Country Code</th>\n",
       "      <th>City</th>\n",
       "      <th>Address</th>\n",
       "      <th>Locality</th>\n",
       "      <th>Locality Verbose</th>\n",
       "      <th>Longitude</th>\n",
       "      <th>Latitude</th>\n",
       "      <th>Cuisines</th>\n",
       "      <th>...</th>\n",
       "      <th>Has Table booking</th>\n",
       "      <th>Has Online delivery</th>\n",
       "      <th>Is delivering now</th>\n",
       "      <th>Switch to order menu</th>\n",
       "      <th>Price range</th>\n",
       "      <th>Aggregate rating</th>\n",
       "      <th>Rating color</th>\n",
       "      <th>Rating text</th>\n",
       "      <th>Votes</th>\n",
       "      <th>Country</th>\n",
       "    </tr>\n",
       "  </thead>\n",
       "  <tbody>\n",
       "    <tr>\n",
       "      <th>1247</th>\n",
       "      <td>306134</td>\n",
       "      <td>The Wine Company</td>\n",
       "      <td>1</td>\n",
       "      <td>Gurgaon</td>\n",
       "      <td>Cyber Hub, DLF Cyber City, Gurgaon</td>\n",
       "      <td>Cyber Hub, DLF Cyber City</td>\n",
       "      <td>Cyber Hub, DLF Cyber City, Gurgaon</td>\n",
       "      <td>77.089048</td>\n",
       "      <td>28.496229</td>\n",
       "      <td>Italian, European</td>\n",
       "      <td>...</td>\n",
       "      <td>Yes</td>\n",
       "      <td>No</td>\n",
       "      <td>No</td>\n",
       "      <td>No</td>\n",
       "      <td>4</td>\n",
       "      <td>2.4</td>\n",
       "      <td>Red</td>\n",
       "      <td>Poor</td>\n",
       "      <td>2412</td>\n",
       "      <td>India</td>\n",
       "    </tr>\n",
       "    <tr>\n",
       "      <th>8045</th>\n",
       "      <td>718</td>\n",
       "      <td>Americana Kitchen and Bar</td>\n",
       "      <td>1</td>\n",
       "      <td>Noida</td>\n",
       "      <td>Ist Floor, 1-6, Centre Stage Mall, Sector 18, ...</td>\n",
       "      <td>Centre Stage Mall, Sector 18</td>\n",
       "      <td>Centre Stage Mall, Sector 18, Noida</td>\n",
       "      <td>77.322828</td>\n",
       "      <td>28.568343</td>\n",
       "      <td>American, Tex-Mex, Italian, Mexican, North Indian</td>\n",
       "      <td>...</td>\n",
       "      <td>Yes</td>\n",
       "      <td>No</td>\n",
       "      <td>No</td>\n",
       "      <td>No</td>\n",
       "      <td>4</td>\n",
       "      <td>2.4</td>\n",
       "      <td>Red</td>\n",
       "      <td>Poor</td>\n",
       "      <td>221</td>\n",
       "      <td>India</td>\n",
       "    </tr>\n",
       "    <tr>\n",
       "      <th>8467</th>\n",
       "      <td>4717</td>\n",
       "      <td>RPM - Zanzi Bar</td>\n",
       "      <td>1</td>\n",
       "      <td>Noida</td>\n",
       "      <td>B-110, Gautam Budh Nagar, Sector 18, Noida</td>\n",
       "      <td>Sector 18</td>\n",
       "      <td>Sector 18, Noida</td>\n",
       "      <td>77.325299</td>\n",
       "      <td>28.570669</td>\n",
       "      <td>Chinese, North Indian</td>\n",
       "      <td>...</td>\n",
       "      <td>Yes</td>\n",
       "      <td>No</td>\n",
       "      <td>No</td>\n",
       "      <td>No</td>\n",
       "      <td>4</td>\n",
       "      <td>2.4</td>\n",
       "      <td>Red</td>\n",
       "      <td>Poor</td>\n",
       "      <td>103</td>\n",
       "      <td>India</td>\n",
       "    </tr>\n",
       "    <tr>\n",
       "      <th>9050</th>\n",
       "      <td>3212</td>\n",
       "      <td>Chicane</td>\n",
       "      <td>1</td>\n",
       "      <td>Noida</td>\n",
       "      <td>205-A, 1st Floor, Spice World Mall, Sector 25-...</td>\n",
       "      <td>Spice World Mall, Sector 25</td>\n",
       "      <td>Spice World Mall, Sector 25, Noida</td>\n",
       "      <td>77.341021</td>\n",
       "      <td>28.585493</td>\n",
       "      <td>European, North Indian, Chinese</td>\n",
       "      <td>...</td>\n",
       "      <td>Yes</td>\n",
       "      <td>No</td>\n",
       "      <td>No</td>\n",
       "      <td>No</td>\n",
       "      <td>4</td>\n",
       "      <td>2.2</td>\n",
       "      <td>Red</td>\n",
       "      <td>Poor</td>\n",
       "      <td>116</td>\n",
       "      <td>India</td>\n",
       "    </tr>\n",
       "    <tr>\n",
       "      <th>9105</th>\n",
       "      <td>3237</td>\n",
       "      <td>Club Ice Cube</td>\n",
       "      <td>1</td>\n",
       "      <td>Noida</td>\n",
       "      <td>313, 3rd Floor, The Great India Place Mall, Se...</td>\n",
       "      <td>The Great India Place, Sector 38</td>\n",
       "      <td>The Great India Place, Sector 38, Noida</td>\n",
       "      <td>77.326475</td>\n",
       "      <td>28.568067</td>\n",
       "      <td>North Indian, Continental, Chinese</td>\n",
       "      <td>...</td>\n",
       "      <td>Yes</td>\n",
       "      <td>No</td>\n",
       "      <td>No</td>\n",
       "      <td>No</td>\n",
       "      <td>4</td>\n",
       "      <td>2.0</td>\n",
       "      <td>Red</td>\n",
       "      <td>Poor</td>\n",
       "      <td>230</td>\n",
       "      <td>India</td>\n",
       "    </tr>\n",
       "  </tbody>\n",
       "</table>\n",
       "<p>5 rows × 22 columns</p>\n",
       "</div>"
      ],
      "text/plain": [
       "      Restaurant ID            Restaurant Name  Country Code     City  \\\n",
       "1247         306134           The Wine Company             1  Gurgaon   \n",
       "8045            718  Americana Kitchen and Bar             1    Noida   \n",
       "8467           4717            RPM - Zanzi Bar             1    Noida   \n",
       "9050           3212                    Chicane             1    Noida   \n",
       "9105           3237              Club Ice Cube             1    Noida   \n",
       "\n",
       "                                                Address  \\\n",
       "1247                 Cyber Hub, DLF Cyber City, Gurgaon   \n",
       "8045  Ist Floor, 1-6, Centre Stage Mall, Sector 18, ...   \n",
       "8467         B-110, Gautam Budh Nagar, Sector 18, Noida   \n",
       "9050  205-A, 1st Floor, Spice World Mall, Sector 25-...   \n",
       "9105  313, 3rd Floor, The Great India Place Mall, Se...   \n",
       "\n",
       "                              Locality  \\\n",
       "1247         Cyber Hub, DLF Cyber City   \n",
       "8045      Centre Stage Mall, Sector 18   \n",
       "8467                         Sector 18   \n",
       "9050       Spice World Mall, Sector 25   \n",
       "9105  The Great India Place, Sector 38   \n",
       "\n",
       "                             Locality Verbose  Longitude   Latitude  \\\n",
       "1247       Cyber Hub, DLF Cyber City, Gurgaon  77.089048  28.496229   \n",
       "8045      Centre Stage Mall, Sector 18, Noida  77.322828  28.568343   \n",
       "8467                         Sector 18, Noida  77.325299  28.570669   \n",
       "9050       Spice World Mall, Sector 25, Noida  77.341021  28.585493   \n",
       "9105  The Great India Place, Sector 38, Noida  77.326475  28.568067   \n",
       "\n",
       "                                               Cuisines  ...  \\\n",
       "1247                                  Italian, European  ...   \n",
       "8045  American, Tex-Mex, Italian, Mexican, North Indian  ...   \n",
       "8467                              Chinese, North Indian  ...   \n",
       "9050                    European, North Indian, Chinese  ...   \n",
       "9105                 North Indian, Continental, Chinese  ...   \n",
       "\n",
       "      Has Table booking Has Online delivery Is delivering now  \\\n",
       "1247                Yes                  No                No   \n",
       "8045                Yes                  No                No   \n",
       "8467                Yes                  No                No   \n",
       "9050                Yes                  No                No   \n",
       "9105                Yes                  No                No   \n",
       "\n",
       "     Switch to order menu Price range Aggregate rating  Rating color  \\\n",
       "1247                   No           4              2.4           Red   \n",
       "8045                   No           4              2.4           Red   \n",
       "8467                   No           4              2.4           Red   \n",
       "9050                   No           4              2.2           Red   \n",
       "9105                   No           4              2.0           Red   \n",
       "\n",
       "      Rating text Votes Country  \n",
       "1247         Poor  2412   India  \n",
       "8045         Poor   221   India  \n",
       "8467         Poor   103   India  \n",
       "9050         Poor   116   India  \n",
       "9105         Poor   230   India  \n",
       "\n",
       "[5 rows x 22 columns]"
      ]
     },
     "execution_count": 26,
     "metadata": {},
     "output_type": "execute_result"
    }
   ],
   "source": [
    "# Low rated expensive restaurants\n",
    "\n",
    "exp_india_restaurant[exp_india_restaurant['Rating text'] == 'Poor']"
   ]
  },
  {
   "cell_type": "code",
   "execution_count": 27,
   "metadata": {
    "colab": {},
    "colab_type": "code",
    "id": "-LIeWF19TEns",
    "outputId": "097357df-1c16-4b3e-a928-e56fcdc9df5e"
   },
   "outputs": [
    {
     "data": {
      "text/plain": [
       "array(['Italian, European',\n",
       "       'American, Tex-Mex, Italian, Mexican, North Indian',\n",
       "       'Chinese, North Indian', 'European, North Indian, Chinese',\n",
       "       'North Indian, Continental, Chinese'], dtype=object)"
      ]
     },
     "execution_count": 27,
     "metadata": {},
     "output_type": "execute_result"
    }
   ],
   "source": [
    "list_of_cuisines = exp_india_restaurant[exp_india_restaurant['Rating text'] == 'Poor']['Cuisines']\n",
    "list_of_cuisines.values"
   ]
  },
  {
   "cell_type": "markdown",
   "metadata": {
    "colab_type": "text",
    "id": "UbQSeNEzTEnv"
   },
   "source": [
    "**Observations**: These are 5 restaurants which are really expensive but do not have good ratings. <br>\n",
    "**Lets have a look at what is their cuisines.**"
   ]
  },
  {
   "cell_type": "code",
   "execution_count": 28,
   "metadata": {
    "colab": {},
    "colab_type": "code",
    "id": "4n4pcIoNTEnx",
    "outputId": "7ffdaae5-a836-48b2-9f97-9e4657aff9dd"
   },
   "outputs": [
    {
     "data": {
      "text/plain": [
       "'Italian, European American, Tex-Mex, Italian, Mexican, North Indian Chinese, North Indian European, North Indian, Chinese North Indian, Continental, Chinese'"
      ]
     },
     "execution_count": 28,
     "metadata": {},
     "output_type": "execute_result"
    }
   ],
   "source": [
    "text = ' '.join([j for j in list_of_cuisines.values])\n",
    "text"
   ]
  },
  {
   "cell_type": "markdown",
   "metadata": {
    "colab_type": "text",
    "id": "aisyoKJjTEn8"
   },
   "source": [
    "**North Indian** is the most popular cuisine. So we can infer that these North Indian restaurants in Gurgaon and Noida which do not provide authentic North Indian dishes and that is why customers are unhappy and rate them poorly."
   ]
  },
  {
   "cell_type": "markdown",
   "metadata": {
    "colab_type": "text",
    "id": "97S5AKXRTEn9"
   },
   "source": [
    "### Lets look at all the restaurants which have poor ratings."
   ]
  },
  {
   "cell_type": "code",
   "execution_count": 30,
   "metadata": {
    "colab": {},
    "colab_type": "code",
    "id": "YOApWWpXTEn9",
    "outputId": "6f8fbf01-ad3e-4bdd-fee9-b29d972f6e80"
   },
   "outputs": [
    {
     "data": {
      "text/html": [
       "<div>\n",
       "<style scoped>\n",
       "    .dataframe tbody tr th:only-of-type {\n",
       "        vertical-align: middle;\n",
       "    }\n",
       "\n",
       "    .dataframe tbody tr th {\n",
       "        vertical-align: top;\n",
       "    }\n",
       "\n",
       "    .dataframe thead th {\n",
       "        text-align: right;\n",
       "    }\n",
       "</style>\n",
       "<table border=\"1\" class=\"dataframe\">\n",
       "  <thead>\n",
       "    <tr style=\"text-align: right;\">\n",
       "      <th></th>\n",
       "      <th>Restaurant ID</th>\n",
       "      <th>Restaurant Name</th>\n",
       "      <th>Country Code</th>\n",
       "      <th>City</th>\n",
       "      <th>Address</th>\n",
       "      <th>Locality</th>\n",
       "      <th>Locality Verbose</th>\n",
       "      <th>Longitude</th>\n",
       "      <th>Latitude</th>\n",
       "      <th>Cuisines</th>\n",
       "      <th>...</th>\n",
       "      <th>Has Table booking</th>\n",
       "      <th>Has Online delivery</th>\n",
       "      <th>Is delivering now</th>\n",
       "      <th>Switch to order menu</th>\n",
       "      <th>Price range</th>\n",
       "      <th>Aggregate rating</th>\n",
       "      <th>Rating color</th>\n",
       "      <th>Rating text</th>\n",
       "      <th>Votes</th>\n",
       "      <th>Country</th>\n",
       "    </tr>\n",
       "  </thead>\n",
       "  <tbody>\n",
       "    <tr>\n",
       "      <th>890</th>\n",
       "      <td>311051</td>\n",
       "      <td>KFC</td>\n",
       "      <td>1</td>\n",
       "      <td>Faridabad</td>\n",
       "      <td>Shops 21-22, 2nd Floor, Crown Interiorz Mall, ...</td>\n",
       "      <td>Crown Interiorz Mall, Sector 35, Faridabad</td>\n",
       "      <td>Crown Interiorz Mall, Sector 35, Faridabad, Fa...</td>\n",
       "      <td>77.307060</td>\n",
       "      <td>28.469807</td>\n",
       "      <td>American, Fast Food, Burger</td>\n",
       "      <td>...</td>\n",
       "      <td>No</td>\n",
       "      <td>Yes</td>\n",
       "      <td>No</td>\n",
       "      <td>No</td>\n",
       "      <td>2</td>\n",
       "      <td>2.1</td>\n",
       "      <td>Red</td>\n",
       "      <td>Poor</td>\n",
       "      <td>57</td>\n",
       "      <td>India</td>\n",
       "    </tr>\n",
       "    <tr>\n",
       "      <th>896</th>\n",
       "      <td>8128</td>\n",
       "      <td>Mirage Restro Bar</td>\n",
       "      <td>1</td>\n",
       "      <td>Faridabad</td>\n",
       "      <td>2nd Floor, Crown Plaza Mall, Sector 15-A, Sect...</td>\n",
       "      <td>Crown Plaza Mall, Sector 15, Faridabad</td>\n",
       "      <td>Crown Plaza Mall, Sector 15, Faridabad, Faridabad</td>\n",
       "      <td>77.313102</td>\n",
       "      <td>28.397808</td>\n",
       "      <td>North Indian, Mughlai</td>\n",
       "      <td>...</td>\n",
       "      <td>Yes</td>\n",
       "      <td>No</td>\n",
       "      <td>No</td>\n",
       "      <td>No</td>\n",
       "      <td>3</td>\n",
       "      <td>2.4</td>\n",
       "      <td>Red</td>\n",
       "      <td>Poor</td>\n",
       "      <td>25</td>\n",
       "      <td>India</td>\n",
       "    </tr>\n",
       "    <tr>\n",
       "      <th>1138</th>\n",
       "      <td>1683</td>\n",
       "      <td>Pind Balluchi</td>\n",
       "      <td>1</td>\n",
       "      <td>Ghaziabad</td>\n",
       "      <td>Shop 34-40, Level 3, Shipra Mall, Gulmohar Roa...</td>\n",
       "      <td>Shipra Mall, Indirapuram</td>\n",
       "      <td>Shipra Mall, Indirapuram, Ghaziabad</td>\n",
       "      <td>77.370165</td>\n",
       "      <td>28.633970</td>\n",
       "      <td>North Indian, Mughlai</td>\n",
       "      <td>...</td>\n",
       "      <td>Yes</td>\n",
       "      <td>Yes</td>\n",
       "      <td>No</td>\n",
       "      <td>No</td>\n",
       "      <td>3</td>\n",
       "      <td>1.8</td>\n",
       "      <td>Red</td>\n",
       "      <td>Poor</td>\n",
       "      <td>322</td>\n",
       "      <td>India</td>\n",
       "    </tr>\n",
       "    <tr>\n",
       "      <th>1247</th>\n",
       "      <td>306134</td>\n",
       "      <td>The Wine Company</td>\n",
       "      <td>1</td>\n",
       "      <td>Gurgaon</td>\n",
       "      <td>Cyber Hub, DLF Cyber City, Gurgaon</td>\n",
       "      <td>Cyber Hub, DLF Cyber City</td>\n",
       "      <td>Cyber Hub, DLF Cyber City, Gurgaon</td>\n",
       "      <td>77.089048</td>\n",
       "      <td>28.496229</td>\n",
       "      <td>Italian, European</td>\n",
       "      <td>...</td>\n",
       "      <td>Yes</td>\n",
       "      <td>No</td>\n",
       "      <td>No</td>\n",
       "      <td>No</td>\n",
       "      <td>4</td>\n",
       "      <td>2.4</td>\n",
       "      <td>Red</td>\n",
       "      <td>Poor</td>\n",
       "      <td>2412</td>\n",
       "      <td>India</td>\n",
       "    </tr>\n",
       "    <tr>\n",
       "      <th>1263</th>\n",
       "      <td>225</td>\n",
       "      <td>Domino's Pizza</td>\n",
       "      <td>1</td>\n",
       "      <td>Gurgaon</td>\n",
       "      <td>UGF/RTC 9, Building 8, Tower C, DLF- 2, DLF Cy...</td>\n",
       "      <td>DLF Cyber City</td>\n",
       "      <td>DLF Cyber City, Gurgaon</td>\n",
       "      <td>77.089048</td>\n",
       "      <td>28.494525</td>\n",
       "      <td>Pizza, Fast Food</td>\n",
       "      <td>...</td>\n",
       "      <td>No</td>\n",
       "      <td>No</td>\n",
       "      <td>No</td>\n",
       "      <td>No</td>\n",
       "      <td>2</td>\n",
       "      <td>2.4</td>\n",
       "      <td>Red</td>\n",
       "      <td>Poor</td>\n",
       "      <td>125</td>\n",
       "      <td>India</td>\n",
       "    </tr>\n",
       "    <tr>\n",
       "      <th>...</th>\n",
       "      <td>...</td>\n",
       "      <td>...</td>\n",
       "      <td>...</td>\n",
       "      <td>...</td>\n",
       "      <td>...</td>\n",
       "      <td>...</td>\n",
       "      <td>...</td>\n",
       "      <td>...</td>\n",
       "      <td>...</td>\n",
       "      <td>...</td>\n",
       "      <td>...</td>\n",
       "      <td>...</td>\n",
       "      <td>...</td>\n",
       "      <td>...</td>\n",
       "      <td>...</td>\n",
       "      <td>...</td>\n",
       "      <td>...</td>\n",
       "      <td>...</td>\n",
       "      <td>...</td>\n",
       "      <td>...</td>\n",
       "      <td>...</td>\n",
       "    </tr>\n",
       "    <tr>\n",
       "      <th>9069</th>\n",
       "      <td>428</td>\n",
       "      <td>Sagar Ratna</td>\n",
       "      <td>1</td>\n",
       "      <td>Noida</td>\n",
       "      <td>C-134/B, Supertech Shopprix Mall, Sector 61, N...</td>\n",
       "      <td>Supertech Shopprix Mall, Sector 61</td>\n",
       "      <td>Supertech Shopprix Mall, Sector 61, Noida</td>\n",
       "      <td>77.364833</td>\n",
       "      <td>28.597103</td>\n",
       "      <td>South Indian, North Indian, Chinese</td>\n",
       "      <td>...</td>\n",
       "      <td>No</td>\n",
       "      <td>Yes</td>\n",
       "      <td>No</td>\n",
       "      <td>No</td>\n",
       "      <td>2</td>\n",
       "      <td>2.3</td>\n",
       "      <td>Red</td>\n",
       "      <td>Poor</td>\n",
       "      <td>155</td>\n",
       "      <td>India</td>\n",
       "    </tr>\n",
       "    <tr>\n",
       "      <th>9070</th>\n",
       "      <td>18070483</td>\n",
       "      <td>Subway</td>\n",
       "      <td>1</td>\n",
       "      <td>Noida</td>\n",
       "      <td>Shop 3, Supertech Shopprix Mall, Sector 61, Noida</td>\n",
       "      <td>Supertech Shopprix Mall, Sector 61</td>\n",
       "      <td>Supertech Shopprix Mall, Sector 61, Noida</td>\n",
       "      <td>77.364981</td>\n",
       "      <td>28.596898</td>\n",
       "      <td>American, Fast Food, Salad, Healthy Food</td>\n",
       "      <td>...</td>\n",
       "      <td>No</td>\n",
       "      <td>Yes</td>\n",
       "      <td>No</td>\n",
       "      <td>No</td>\n",
       "      <td>2</td>\n",
       "      <td>2.3</td>\n",
       "      <td>Red</td>\n",
       "      <td>Poor</td>\n",
       "      <td>24</td>\n",
       "      <td>India</td>\n",
       "    </tr>\n",
       "    <tr>\n",
       "      <th>9104</th>\n",
       "      <td>2979</td>\n",
       "      <td>Chopaal</td>\n",
       "      <td>1</td>\n",
       "      <td>Noida</td>\n",
       "      <td>A-2, 3rd Floor, The Great India Place Mall, Se...</td>\n",
       "      <td>The Great India Place, Sector 38</td>\n",
       "      <td>The Great India Place, Sector 38, Noida</td>\n",
       "      <td>77.325308</td>\n",
       "      <td>28.567150</td>\n",
       "      <td>Chinese, North Indian, South Indian, Fast Food</td>\n",
       "      <td>...</td>\n",
       "      <td>No</td>\n",
       "      <td>No</td>\n",
       "      <td>No</td>\n",
       "      <td>No</td>\n",
       "      <td>1</td>\n",
       "      <td>2.0</td>\n",
       "      <td>Red</td>\n",
       "      <td>Poor</td>\n",
       "      <td>161</td>\n",
       "      <td>India</td>\n",
       "    </tr>\n",
       "    <tr>\n",
       "      <th>9105</th>\n",
       "      <td>3237</td>\n",
       "      <td>Club Ice Cube</td>\n",
       "      <td>1</td>\n",
       "      <td>Noida</td>\n",
       "      <td>313, 3rd Floor, The Great India Place Mall, Se...</td>\n",
       "      <td>The Great India Place, Sector 38</td>\n",
       "      <td>The Great India Place, Sector 38, Noida</td>\n",
       "      <td>77.326475</td>\n",
       "      <td>28.568067</td>\n",
       "      <td>North Indian, Continental, Chinese</td>\n",
       "      <td>...</td>\n",
       "      <td>Yes</td>\n",
       "      <td>No</td>\n",
       "      <td>No</td>\n",
       "      <td>No</td>\n",
       "      <td>4</td>\n",
       "      <td>2.0</td>\n",
       "      <td>Red</td>\n",
       "      <td>Poor</td>\n",
       "      <td>230</td>\n",
       "      <td>India</td>\n",
       "    </tr>\n",
       "    <tr>\n",
       "      <th>9106</th>\n",
       "      <td>2025</td>\n",
       "      <td>Moti Mahal Delux Tandoori Trail</td>\n",
       "      <td>1</td>\n",
       "      <td>Noida</td>\n",
       "      <td>Food Court, The Great India Place Mall, Sector...</td>\n",
       "      <td>The Great India Place, Sector 38</td>\n",
       "      <td>The Great India Place, Sector 38, Noida</td>\n",
       "      <td>77.325445</td>\n",
       "      <td>28.567040</td>\n",
       "      <td>North Indian, Mughlai</td>\n",
       "      <td>...</td>\n",
       "      <td>Yes</td>\n",
       "      <td>Yes</td>\n",
       "      <td>No</td>\n",
       "      <td>No</td>\n",
       "      <td>3</td>\n",
       "      <td>2.0</td>\n",
       "      <td>Red</td>\n",
       "      <td>Poor</td>\n",
       "      <td>108</td>\n",
       "      <td>India</td>\n",
       "    </tr>\n",
       "  </tbody>\n",
       "</table>\n",
       "<p>180 rows × 22 columns</p>\n",
       "</div>"
      ],
      "text/plain": [
       "      Restaurant ID                  Restaurant Name  Country Code       City  \\\n",
       "890          311051                              KFC             1  Faridabad   \n",
       "896            8128                Mirage Restro Bar             1  Faridabad   \n",
       "1138           1683                    Pind Balluchi             1  Ghaziabad   \n",
       "1247         306134                 The Wine Company             1    Gurgaon   \n",
       "1263            225                   Domino's Pizza             1    Gurgaon   \n",
       "...             ...                              ...           ...        ...   \n",
       "9069            428                      Sagar Ratna             1      Noida   \n",
       "9070       18070483                           Subway             1      Noida   \n",
       "9104           2979                          Chopaal             1      Noida   \n",
       "9105           3237                    Club Ice Cube             1      Noida   \n",
       "9106           2025  Moti Mahal Delux Tandoori Trail             1      Noida   \n",
       "\n",
       "                                                Address  \\\n",
       "890   Shops 21-22, 2nd Floor, Crown Interiorz Mall, ...   \n",
       "896   2nd Floor, Crown Plaza Mall, Sector 15-A, Sect...   \n",
       "1138  Shop 34-40, Level 3, Shipra Mall, Gulmohar Roa...   \n",
       "1247                 Cyber Hub, DLF Cyber City, Gurgaon   \n",
       "1263  UGF/RTC 9, Building 8, Tower C, DLF- 2, DLF Cy...   \n",
       "...                                                 ...   \n",
       "9069  C-134/B, Supertech Shopprix Mall, Sector 61, N...   \n",
       "9070  Shop 3, Supertech Shopprix Mall, Sector 61, Noida   \n",
       "9104  A-2, 3rd Floor, The Great India Place Mall, Se...   \n",
       "9105  313, 3rd Floor, The Great India Place Mall, Se...   \n",
       "9106  Food Court, The Great India Place Mall, Sector...   \n",
       "\n",
       "                                        Locality  \\\n",
       "890   Crown Interiorz Mall, Sector 35, Faridabad   \n",
       "896       Crown Plaza Mall, Sector 15, Faridabad   \n",
       "1138                    Shipra Mall, Indirapuram   \n",
       "1247                   Cyber Hub, DLF Cyber City   \n",
       "1263                              DLF Cyber City   \n",
       "...                                          ...   \n",
       "9069          Supertech Shopprix Mall, Sector 61   \n",
       "9070          Supertech Shopprix Mall, Sector 61   \n",
       "9104            The Great India Place, Sector 38   \n",
       "9105            The Great India Place, Sector 38   \n",
       "9106            The Great India Place, Sector 38   \n",
       "\n",
       "                                       Locality Verbose  Longitude   Latitude  \\\n",
       "890   Crown Interiorz Mall, Sector 35, Faridabad, Fa...  77.307060  28.469807   \n",
       "896   Crown Plaza Mall, Sector 15, Faridabad, Faridabad  77.313102  28.397808   \n",
       "1138                Shipra Mall, Indirapuram, Ghaziabad  77.370165  28.633970   \n",
       "1247                 Cyber Hub, DLF Cyber City, Gurgaon  77.089048  28.496229   \n",
       "1263                            DLF Cyber City, Gurgaon  77.089048  28.494525   \n",
       "...                                                 ...        ...        ...   \n",
       "9069          Supertech Shopprix Mall, Sector 61, Noida  77.364833  28.597103   \n",
       "9070          Supertech Shopprix Mall, Sector 61, Noida  77.364981  28.596898   \n",
       "9104            The Great India Place, Sector 38, Noida  77.325308  28.567150   \n",
       "9105            The Great India Place, Sector 38, Noida  77.326475  28.568067   \n",
       "9106            The Great India Place, Sector 38, Noida  77.325445  28.567040   \n",
       "\n",
       "                                            Cuisines  ...  Has Table booking  \\\n",
       "890                      American, Fast Food, Burger  ...                 No   \n",
       "896                            North Indian, Mughlai  ...                Yes   \n",
       "1138                           North Indian, Mughlai  ...                Yes   \n",
       "1247                               Italian, European  ...                Yes   \n",
       "1263                                Pizza, Fast Food  ...                 No   \n",
       "...                                              ...  ...                ...   \n",
       "9069             South Indian, North Indian, Chinese  ...                 No   \n",
       "9070        American, Fast Food, Salad, Healthy Food  ...                 No   \n",
       "9104  Chinese, North Indian, South Indian, Fast Food  ...                 No   \n",
       "9105              North Indian, Continental, Chinese  ...                Yes   \n",
       "9106                           North Indian, Mughlai  ...                Yes   \n",
       "\n",
       "     Has Online delivery Is delivering now Switch to order menu Price range  \\\n",
       "890                  Yes                No                   No           2   \n",
       "896                   No                No                   No           3   \n",
       "1138                 Yes                No                   No           3   \n",
       "1247                  No                No                   No           4   \n",
       "1263                  No                No                   No           2   \n",
       "...                  ...               ...                  ...         ...   \n",
       "9069                 Yes                No                   No           2   \n",
       "9070                 Yes                No                   No           2   \n",
       "9104                  No                No                   No           1   \n",
       "9105                  No                No                   No           4   \n",
       "9106                 Yes                No                   No           3   \n",
       "\n",
       "     Aggregate rating  Rating color  Rating text Votes Country  \n",
       "890               2.1           Red         Poor    57   India  \n",
       "896               2.4           Red         Poor    25   India  \n",
       "1138              1.8           Red         Poor   322   India  \n",
       "1247              2.4           Red         Poor  2412   India  \n",
       "1263              2.4           Red         Poor   125   India  \n",
       "...               ...           ...          ...   ...     ...  \n",
       "9069              2.3           Red         Poor   155   India  \n",
       "9070              2.3           Red         Poor    24   India  \n",
       "9104              2.0           Red         Poor   161   India  \n",
       "9105              2.0           Red         Poor   230   India  \n",
       "9106              2.0           Red         Poor   108   India  \n",
       "\n",
       "[180 rows x 22 columns]"
      ]
     },
     "execution_count": 30,
     "metadata": {},
     "output_type": "execute_result"
    }
   ],
   "source": [
    "bad_rated_restaurants = zomato_india[zomato_india['Rating text'] == 'Poor']\n",
    "bad_rated_restaurants"
   ]
  },
  {
   "cell_type": "code",
   "execution_count": 31,
   "metadata": {
    "colab": {},
    "colab_type": "code",
    "id": "uCN3oQdPTEoB",
    "outputId": "d3adfe8c-52a6-4904-f8e9-18fee1bd28f6"
   },
   "outputs": [
    {
     "data": {
      "text/plain": [
       "(180, 22)"
      ]
     },
     "execution_count": 31,
     "metadata": {},
     "output_type": "execute_result"
    }
   ],
   "source": [
    "bad_rated_restaurants.shape"
   ]
  },
  {
   "cell_type": "code",
   "execution_count": 32,
   "metadata": {
    "colab": {},
    "colab_type": "code",
    "id": "3Lf2KS5iTEoG",
    "outputId": "dc952882-8315-4c58-ac7c-d20cccf04d75"
   },
   "outputs": [
    {
     "data": {
      "text/plain": [
       "Yes    116\n",
       "No      64\n",
       "Name: Has Online delivery, dtype: int64"
      ]
     },
     "execution_count": 32,
     "metadata": {},
     "output_type": "execute_result"
    }
   ],
   "source": [
    "bad_rated_restaurants['Has Online delivery'].value_counts()"
   ]
  },
  {
   "cell_type": "code",
   "execution_count": 33,
   "metadata": {
    "colab": {},
    "colab_type": "code",
    "id": "SOP-sVUSTEoJ",
    "outputId": "8c5add9d-50b7-435c-a769-ed581b2d16f4"
   },
   "outputs": [
    {
     "data": {
      "text/plain": [
       "No     179\n",
       "Yes      1\n",
       "Name: Is delivering now, dtype: int64"
      ]
     },
     "execution_count": 33,
     "metadata": {},
     "output_type": "execute_result"
    }
   ],
   "source": [
    "bad_rated_restaurants['Is delivering now'].value_counts()"
   ]
  },
  {
   "cell_type": "markdown",
   "metadata": {
    "colab_type": "text",
    "id": "mTGIBi30TEoN"
   },
   "source": [
    "**Many of these restaurants are not available for delivery most of the time. Hence people provide poor rating to them.**"
   ]
  },
  {
   "cell_type": "markdown",
   "metadata": {
    "colab_type": "text",
    "id": "t_ssq_H7TEoO"
   },
   "source": [
    "### City wise Analysis of Poor Rated restaurants"
   ]
  },
  {
   "cell_type": "code",
   "execution_count": 34,
   "metadata": {
    "colab": {},
    "colab_type": "code",
    "id": "L0KSCumETEoO",
    "outputId": "50b232c7-2ec1-4d80-83d5-edb0084009b7"
   },
   "outputs": [
    {
     "data": {
      "text/plain": [
       "<AxesSubplot:xlabel='City', ylabel='count'>"
      ]
     },
     "execution_count": 34,
     "metadata": {},
     "output_type": "execute_result"
    },
    {
     "data": {
      "image/png": "[encoded data removed]",
      "text/plain": [
       "<Figure size 432x288 with 1 Axes>"
      ]
     },
     "metadata": {},
     "output_type": "display_data"
    }
   ],
   "source": [
    "sns.countplot(x = 'City', data = bad_rated_restaurants)"
   ]
  },
  {
   "cell_type": "markdown",
   "metadata": {
    "colab_type": "text",
    "id": "9wRSwcXvTEoR"
   },
   "source": [
    "**Why are ratings of New Delhi, Noida and Gurgaon bad?**"
   ]
  },
  {
   "cell_type": "code",
   "execution_count": 35,
   "metadata": {
    "colab": {},
    "colab_type": "code",
    "id": "np7Q6FlQTEoS",
    "outputId": "ee19872e-4b6c-4588-ccfb-600a003432ea"
   },
   "outputs": [
    {
     "data": {
      "text/plain": [
       "New Delhi    97\n",
       "Noida        45\n",
       "Gurgaon      34\n",
       "Faridabad     2\n",
       "Ghaziabad     1\n",
       "Nagpur        1\n",
       "Name: City, dtype: int64"
      ]
     },
     "execution_count": 35,
     "metadata": {},
     "output_type": "execute_result"
    }
   ],
   "source": [
    "# Total no. of bad restaurants\n",
    "\n",
    "bad_rated_restaurants['City'].value_counts()"
   ]
  },
  {
   "cell_type": "code",
   "execution_count": 36,
   "metadata": {
    "colab": {},
    "colab_type": "code",
    "id": "_WR_b-NYTEoW",
    "outputId": "d96d8407-05dd-4292-fcdf-f9113a0a7e92"
   },
   "outputs": [
    {
     "data": {
      "text/plain": [
       "New Delhi    5473\n",
       "Gurgaon      1118\n",
       "Noida        1080\n",
       "Name: City, dtype: int64"
      ]
     },
     "execution_count": 36,
     "metadata": {},
     "output_type": "execute_result"
    }
   ],
   "source": [
    "# Total number of restaurants\n",
    "\n",
    "top_3_cities = zomato_india['City'].value_counts().head(3)\n",
    "top_3_cities"
   ]
  },
  {
   "cell_type": "code",
   "execution_count": 37,
   "metadata": {
    "colab": {},
    "colab_type": "code",
    "id": "eKnyhTjUTEoZ",
    "outputId": "88160ad7-f1ba-4e0c-ce41-c31c727f964c"
   },
   "outputs": [
    {
     "data": {
      "text/plain": [
       "<AxesSubplot:ylabel='City'>"
      ]
     },
     "execution_count": 37,
     "metadata": {},
     "output_type": "execute_result"
    },
    {
     "data": {
      "image/png": "[encoded data removed]",
      "text/plain": [
       "<Figure size 432x288 with 1 Axes>"
      ]
     },
     "metadata": {},
     "output_type": "display_data"
    }
   ],
   "source": [
    "sns.barplot(y = top_3_cities, x = top_3_cities.index)"
   ]
  },
  {
   "cell_type": "markdown",
   "metadata": {
    "colab_type": "text",
    "id": "oMGmHtDOTEof"
   },
   "source": [
    "**Hence we cannot conclude that these 3 cities have significantly large number of bad restaurants as the total number of restaurants is also high.**"
   ]
  },
  {
   "cell_type": "markdown",
   "metadata": {
    "colab_type": "text",
    "id": "8aoTWFaFTEog"
   },
   "source": [
    "### Let's make our plots interactive using Plotly-express"
   ]
  },
  {
   "cell_type": "code",
   "execution_count": 63,
   "metadata": {
    "colab": {},
    "colab_type": "code",
    "id": "uM1UOI4oTEog"
   },
   "outputs": [
    {
     "ename": "SyntaxError",
     "evalue": "invalid syntax (Temp/ipykernel_16580/1110814319.py, line 5)",
     "output_type": "error",
     "traceback": [
      "\u001b[1;36m  File \u001b[1;32m\"C:\\Users\\Samiksha\\AppData\\Local\\Temp/ipykernel_16580/1110814319.py\"\u001b[1;36m, line \u001b[1;32m5\u001b[0m\n\u001b[1;33m    pip install plotly\u001b[0m\n\u001b[1;37m        ^\u001b[0m\n\u001b[1;31mSyntaxError\u001b[0m\u001b[1;31m:\u001b[0m invalid syntax\n"
     ]
    }
   ],
   "source": [
    "# pip3 install plotly\n",
    "import plotly.express as px\n",
    "# import plotly_express as px\n",
    "# import plotly.plotly as py\n",
    "pip install plotly\n"
   ]
  },
  {
   "cell_type": "code",
   "execution_count": 64,
   "metadata": {
    "colab": {},
    "colab_type": "code",
    "id": "-GFIZ08XTEok",
    "outputId": "a0ce8f76-5e02-41c7-c26a-fc0462443ea0",
    "scrolled": false
   },
   "outputs": [
    {
     "ename": "NameError",
     "evalue": "name 'px' is not defined",
     "output_type": "error",
     "traceback": [
      "\u001b[1;31m---------------------------------------------------------------------------\u001b[0m",
      "\u001b[1;31mNameError\u001b[0m                                 Traceback (most recent call last)",
      "\u001b[1;32m~\\AppData\\Local\\Temp/ipykernel_16580/3172248243.py\u001b[0m in \u001b[0;36m<module>\u001b[1;34m\u001b[0m\n\u001b[0;32m      1\u001b[0m \u001b[1;31m# Scatter Plot\u001b[0m\u001b[1;33m\u001b[0m\u001b[1;33m\u001b[0m\u001b[0m\n\u001b[0;32m      2\u001b[0m \u001b[1;33m\u001b[0m\u001b[0m\n\u001b[1;32m----> 3\u001b[1;33m \u001b[0mpx\u001b[0m\u001b[1;33m.\u001b[0m\u001b[0mscatter\u001b[0m\u001b[1;33m(\u001b[0m\u001b[0mzomato_data\u001b[0m\u001b[1;33m,\u001b[0m \u001b[0mx\u001b[0m\u001b[1;33m=\u001b[0m\u001b[1;34m\"Average Cost for two\"\u001b[0m\u001b[1;33m,\u001b[0m \u001b[0my\u001b[0m\u001b[1;33m=\u001b[0m\u001b[1;34m\"Votes\"\u001b[0m\u001b[1;33m,\u001b[0m \u001b[0msize\u001b[0m\u001b[1;33m=\u001b[0m\u001b[1;34m\"Votes\"\u001b[0m\u001b[1;33m,\u001b[0m \u001b[0mcolor\u001b[0m\u001b[1;33m=\u001b[0m\u001b[1;34m\"Rating text\"\u001b[0m\u001b[1;33m,\u001b[0m \u001b[0mlog_x\u001b[0m\u001b[1;33m=\u001b[0m\u001b[1;32mTrue\u001b[0m\u001b[1;33m,\u001b[0m \u001b[0msize_max\u001b[0m\u001b[1;33m=\u001b[0m\u001b[1;36m60\u001b[0m\u001b[1;33m,\u001b[0m\u001b[0mhover_name\u001b[0m\u001b[1;33m=\u001b[0m\u001b[1;34m'City'\u001b[0m\u001b[1;33m)\u001b[0m\u001b[1;33m\u001b[0m\u001b[1;33m\u001b[0m\u001b[0m\n\u001b[0m",
      "\u001b[1;31mNameError\u001b[0m: name 'px' is not defined"
     ]
    }
   ],
   "source": [
    "# Scatter Plot\n",
    "\n",
    "px.scatter(zomato_data, x=\"Average Cost for two\", y=\"Votes\", size=\"Votes\", color=\"Rating text\", log_x=True, size_max=60,hover_name='City')"
   ]
  },
  {
   "cell_type": "markdown",
   "metadata": {
    "colab_type": "text",
    "id": "o-9wyI9-TEor"
   },
   "source": [
    "**Observation**: We can see how the Average Cost for two and the Votes are related and in which cities. "
   ]
  },
  {
   "cell_type": "code",
   "execution_count": 45,
   "metadata": {
    "colab": {},
    "colab_type": "code",
    "id": "DpXv-jfOTEos",
    "outputId": "47977ccf-ceab-40da-94db-ef40c9901566"
   },
   "outputs": [
    {
     "ename": "NameError",
     "evalue": "name 'px' is not defined",
     "output_type": "error",
     "traceback": [
      "\u001b[1;31m---------------------------------------------------------------------------\u001b[0m",
      "\u001b[1;31mNameError\u001b[0m                                 Traceback (most recent call last)",
      "\u001b[1;32m~\\AppData\\Local\\Temp/ipykernel_16580/4264206725.py\u001b[0m in \u001b[0;36m<module>\u001b[1;34m\u001b[0m\n\u001b[0;32m      1\u001b[0m \u001b[1;31m# Scatter Plot\u001b[0m\u001b[1;33m\u001b[0m\u001b[1;33m\u001b[0m\u001b[0m\n\u001b[0;32m      2\u001b[0m \u001b[1;33m\u001b[0m\u001b[0m\n\u001b[1;32m----> 3\u001b[1;33m \u001b[0mpx\u001b[0m\u001b[1;33m.\u001b[0m\u001b[0mscatter_matrix\u001b[0m\u001b[1;33m(\u001b[0m\u001b[0mzomato_data\u001b[0m\u001b[1;33m,\u001b[0m \u001b[0mdimensions\u001b[0m\u001b[1;33m=\u001b[0m\u001b[1;33m[\u001b[0m\u001b[1;34m'Average Cost for two'\u001b[0m\u001b[1;33m,\u001b[0m \u001b[1;34m'Price range'\u001b[0m\u001b[1;33m,\u001b[0m \u001b[1;34m'Aggregate rating'\u001b[0m\u001b[1;33m,\u001b[0m \u001b[1;34m'Votes'\u001b[0m\u001b[1;33m]\u001b[0m\u001b[1;33m,\u001b[0m \u001b[0mcolor\u001b[0m\u001b[1;33m=\u001b[0m\u001b[1;34m'Rating text'\u001b[0m\u001b[1;33m)\u001b[0m\u001b[1;33m\u001b[0m\u001b[1;33m\u001b[0m\u001b[0m\n\u001b[0m",
      "\u001b[1;31mNameError\u001b[0m: name 'px' is not defined"
     ]
    }
   ],
   "source": [
    "# Scatter Plot\n",
    "\n",
    "px.scatter_matrix(zomato_data, dimensions=['Average Cost for two', 'Price range', 'Aggregate rating', 'Votes'], color='Rating text')"
   ]
  },
  {
   "cell_type": "markdown",
   "metadata": {
    "colab_type": "text",
    "id": "EfszK2J8TEov"
   },
   "source": [
    "**Observation** : There is not much correlation between the variables."
   ]
  },
  {
   "cell_type": "code",
   "execution_count": 46,
   "metadata": {
    "colab": {},
    "colab_type": "code",
    "id": "rE8Dhnl8TEov",
    "outputId": "6ee737d2-4342-44fd-9bff-d6a8aa1f69f1"
   },
   "outputs": [
    {
     "ename": "NameError",
     "evalue": "name 'px' is not defined",
     "output_type": "error",
     "traceback": [
      "\u001b[1;31m---------------------------------------------------------------------------\u001b[0m",
      "\u001b[1;31mNameError\u001b[0m                                 Traceback (most recent call last)",
      "\u001b[1;32m~\\AppData\\Local\\Temp/ipykernel_16580/922932782.py\u001b[0m in \u001b[0;36m<module>\u001b[1;34m\u001b[0m\n\u001b[0;32m      1\u001b[0m \u001b[1;31m# Box plot of Rating text and Average Cost for two\u001b[0m\u001b[1;33m\u001b[0m\u001b[1;33m\u001b[0m\u001b[0m\n\u001b[0;32m      2\u001b[0m \u001b[1;33m\u001b[0m\u001b[0m\n\u001b[1;32m----> 3\u001b[1;33m \u001b[0mpx\u001b[0m\u001b[1;33m.\u001b[0m\u001b[0mbox\u001b[0m\u001b[1;33m(\u001b[0m\u001b[0mzomato_india\u001b[0m\u001b[1;33m,\u001b[0m \u001b[0mx\u001b[0m\u001b[1;33m=\u001b[0m\u001b[1;34m\"Rating text\"\u001b[0m\u001b[1;33m,\u001b[0m \u001b[0my\u001b[0m\u001b[1;33m=\u001b[0m\u001b[1;34m\"Average Cost for two\"\u001b[0m\u001b[1;33m,\u001b[0m \u001b[0mcolor\u001b[0m\u001b[1;33m=\u001b[0m\u001b[1;34m\"Price range\"\u001b[0m\u001b[1;33m,\u001b[0m \u001b[0mnotched\u001b[0m\u001b[1;33m=\u001b[0m\u001b[1;32mTrue\u001b[0m\u001b[1;33m)\u001b[0m\u001b[1;33m\u001b[0m\u001b[1;33m\u001b[0m\u001b[0m\n\u001b[0m",
      "\u001b[1;31mNameError\u001b[0m: name 'px' is not defined"
     ]
    }
   ],
   "source": [
    "# Box plot of Rating text and Average Cost for two\n",
    "\n",
    "px.box(zomato_india, x=\"Rating text\", y=\"Average Cost for two\", color=\"Price range\", notched=True)"
   ]
  },
  {
   "cell_type": "markdown",
   "metadata": {
    "colab_type": "text",
    "id": "Pm4Es7GLTEoz"
   },
   "source": [
    "**Observation**: Good and Very Good food have very high cost as compared to excellent and other types of food."
   ]
  },
  {
   "cell_type": "code",
   "execution_count": 47,
   "metadata": {
    "colab": {},
    "colab_type": "code",
    "id": "hBnZX49DTEo0",
    "outputId": "9ccf8cf6-a5cc-4f94-af72-1a4850fd35d2"
   },
   "outputs": [
    {
     "ename": "NameError",
     "evalue": "name 'px' is not defined",
     "output_type": "error",
     "traceback": [
      "\u001b[1;31m---------------------------------------------------------------------------\u001b[0m",
      "\u001b[1;31mNameError\u001b[0m                                 Traceback (most recent call last)",
      "\u001b[1;32m~\\AppData\\Local\\Temp/ipykernel_16580/1904448518.py\u001b[0m in \u001b[0;36m<module>\u001b[1;34m\u001b[0m\n\u001b[0;32m      1\u001b[0m \u001b[1;31m# Relationship between Online Delivery and Aggregate rating\u001b[0m\u001b[1;33m\u001b[0m\u001b[1;33m\u001b[0m\u001b[0m\n\u001b[0;32m      2\u001b[0m \u001b[1;33m\u001b[0m\u001b[0m\n\u001b[1;32m----> 3\u001b[1;33m \u001b[0mpx\u001b[0m\u001b[1;33m.\u001b[0m\u001b[0mhistogram\u001b[0m\u001b[1;33m(\u001b[0m\u001b[0mzomato_data\u001b[0m\u001b[1;33m,\u001b[0m \u001b[0mx\u001b[0m\u001b[1;33m=\u001b[0m\u001b[1;34m\"Has Online delivery\"\u001b[0m\u001b[1;33m,\u001b[0m \u001b[0my\u001b[0m\u001b[1;33m=\u001b[0m\u001b[1;34m\"Aggregate rating\"\u001b[0m\u001b[1;33m,\u001b[0m \u001b[0mhistfunc\u001b[0m\u001b[1;33m=\u001b[0m\u001b[1;34m\"avg\"\u001b[0m\u001b[1;33m)\u001b[0m\u001b[1;33m\u001b[0m\u001b[1;33m\u001b[0m\u001b[0m\n\u001b[0m",
      "\u001b[1;31mNameError\u001b[0m: name 'px' is not defined"
     ]
    }
   ],
   "source": [
    "# Relationship between Online Delivery and Aggregate rating\n",
    "\n",
    "px.histogram(zomato_data, x=\"Has Online delivery\", y=\"Aggregate rating\", histfunc=\"avg\")"
   ]
  },
  {
   "cell_type": "markdown",
   "metadata": {
    "colab_type": "text",
    "id": "7yWHJ0j6TEo2"
   },
   "source": [
    "**Observations**: Restaurants which have online delivery have better ratings."
   ]
  },
  {
   "cell_type": "code",
   "execution_count": 48,
   "metadata": {
    "colab": {},
    "colab_type": "code",
    "id": "3rV8hz9VTEo3",
    "outputId": "609020e5-6f8f-4344-bf01-db76464dddcd"
   },
   "outputs": [
    {
     "ename": "NameError",
     "evalue": "name 'px' is not defined",
     "output_type": "error",
     "traceback": [
      "\u001b[1;31m---------------------------------------------------------------------------\u001b[0m",
      "\u001b[1;31mNameError\u001b[0m                                 Traceback (most recent call last)",
      "\u001b[1;32m~\\AppData\\Local\\Temp/ipykernel_16580/718037659.py\u001b[0m in \u001b[0;36m<module>\u001b[1;34m\u001b[0m\n\u001b[1;32m----> 1\u001b[1;33m \u001b[0mpx\u001b[0m\u001b[1;33m.\u001b[0m\u001b[0mhistogram\u001b[0m\u001b[1;33m(\u001b[0m\u001b[0mzomato_data\u001b[0m\u001b[1;33m,\u001b[0m \u001b[0mx\u001b[0m\u001b[1;33m=\u001b[0m\u001b[1;34m\"Has Table booking\"\u001b[0m\u001b[1;33m,\u001b[0m \u001b[0my\u001b[0m\u001b[1;33m=\u001b[0m\u001b[1;34m\"Aggregate rating\"\u001b[0m\u001b[1;33m,\u001b[0m \u001b[0mhistfunc\u001b[0m\u001b[1;33m=\u001b[0m\u001b[1;34m\"avg\"\u001b[0m\u001b[1;33m)\u001b[0m\u001b[1;33m\u001b[0m\u001b[1;33m\u001b[0m\u001b[0m\n\u001b[0m",
      "\u001b[1;31mNameError\u001b[0m: name 'px' is not defined"
     ]
    }
   ],
   "source": [
    "px.histogram(zomato_data, x=\"Has Table booking\", y=\"Aggregate rating\", histfunc=\"avg\")"
   ]
  },
  {
   "cell_type": "markdown",
   "metadata": {
    "colab_type": "text",
    "id": "6018_70NTEo4"
   },
   "source": [
    "**Observations**: Restaurants which have table booking available have more ratings in general."
   ]
  },
  {
   "cell_type": "code",
   "execution_count": 49,
   "metadata": {
    "colab": {},
    "colab_type": "code",
    "id": "5EGFt98XTEo5",
    "outputId": "e7064245-0477-4498-8610-fe5b139abc41"
   },
   "outputs": [
    {
     "ename": "NameError",
     "evalue": "name 'px' is not defined",
     "output_type": "error",
     "traceback": [
      "\u001b[1;31m---------------------------------------------------------------------------\u001b[0m",
      "\u001b[1;31mNameError\u001b[0m                                 Traceback (most recent call last)",
      "\u001b[1;32m~\\AppData\\Local\\Temp/ipykernel_16580/1182007061.py\u001b[0m in \u001b[0;36m<module>\u001b[1;34m\u001b[0m\n\u001b[1;32m----> 1\u001b[1;33m \u001b[0mpx\u001b[0m\u001b[1;33m.\u001b[0m\u001b[0mhistogram\u001b[0m\u001b[1;33m(\u001b[0m\u001b[0mzomato_data\u001b[0m\u001b[1;33m,\u001b[0m \u001b[0mx\u001b[0m\u001b[1;33m=\u001b[0m\u001b[1;34m\"Is delivering now\"\u001b[0m\u001b[1;33m,\u001b[0m \u001b[0my\u001b[0m\u001b[1;33m=\u001b[0m\u001b[1;34m\"Aggregate rating\"\u001b[0m\u001b[1;33m,\u001b[0m \u001b[0mhistfunc\u001b[0m\u001b[1;33m=\u001b[0m\u001b[1;34m\"avg\"\u001b[0m\u001b[1;33m)\u001b[0m\u001b[1;33m\u001b[0m\u001b[1;33m\u001b[0m\u001b[0m\n\u001b[0m",
      "\u001b[1;31mNameError\u001b[0m: name 'px' is not defined"
     ]
    }
   ],
   "source": [
    "px.histogram(zomato_data, x=\"Is delivering now\", y=\"Aggregate rating\", histfunc=\"avg\")"
   ]
  },
  {
   "cell_type": "markdown",
   "metadata": {
    "colab_type": "text",
    "id": "YpxcOkPMTEo8"
   },
   "source": [
    "**Observation**: Restaurants which are delivering now have better ratings than the one which are not."
   ]
  },
  {
   "cell_type": "code",
   "execution_count": null,
   "metadata": {
    "colab": {},
    "colab_type": "code",
    "id": "DZJFvkp0TEo9"
   },
   "outputs": [],
   "source": []
  },
  {
   "cell_type": "code",
   "execution_count": null,
   "metadata": {
    "colab": {},
    "colab_type": "code",
    "id": "pPqNKmPVTEpA"
   },
   "outputs": [],
   "source": []
  },
  {
   "cell_type": "code",
   "execution_count": null,
   "metadata": {
    "colab": {},
    "colab_type": "code",
    "id": "UNZfryT5TEpC"
   },
   "outputs": [],
   "source": []
  },
  {
   "cell_type": "code",
   "execution_count": null,
   "metadata": {
    "colab": {},
    "colab_type": "code",
    "id": "xl_UyJBhTEpE"
   },
   "outputs": [],
   "source": []
  }
 ],
 "metadata": {
  "colab": {
   "collapsed_sections": [],
   "name": "Zomato Inference v2.ipynb",
   "provenance": [],
   "toc_visible": true,
   "version": "0.3.2"
  },
  "kernelspec": {
   "display_name": "Python 3 (ipykernel)",
   "language": "python",
   "name": "python3"
  },
  "language_info": {
   "codemirror_mode": {
    "name": "ipython",
    "version": 3
   },
   "file_extension": ".py",
   "mimetype": "text/x-python",
   "name": "python",
   "nbconvert_exporter": "python",
   "pygments_lexer": "ipython3",
   "version": "3.9.7"
  }
 },
 "nbformat": 4,
 "nbformat_minor": 1
}
